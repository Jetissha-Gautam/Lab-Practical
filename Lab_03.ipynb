{
  "nbformat": 4,
  "nbformat_minor": 0,
  "metadata": {
    "colab": {
      "provenance": [],
      "authorship_tag": "ABX9TyPcb5AlvT+6ALUg0uuewZxc",
      "include_colab_link": true
    },
    "kernelspec": {
      "name": "python3",
      "display_name": "Python 3"
    },
    "language_info": {
      "name": "python"
    }
  },
  "cells": [
    {
      "cell_type": "markdown",
      "metadata": {
        "id": "view-in-github",
        "colab_type": "text"
      },
      "source": [
        "<a href=\"https://colab.research.google.com/github/Jetissha-Gautam/Lab-Practical/blob/main/Lab_03.ipynb\" target=\"_parent\"><img src=\"https://colab.research.google.com/assets/colab-badge.svg\" alt=\"Open In Colab\"/></a>"
      ]
    },
    {
      "cell_type": "code",
      "execution_count": null,
      "metadata": {
        "id": "RrsuXQ5SfB7v"
      },
      "outputs": [],
      "source": [
        "# Count how many vowels are there in a string\n",
        "s = input(\"Enter a string: \")\n",
        "vowels = \"aeiouAEIOU\"\n",
        "count = sum(1 for char in s if char in vowels)\n",
        "print(\"Number of vowels:\", count)\n"
      ]
    },
    {
      "cell_type": "code",
      "source": [
        "# Convert string to lower case, upper case, and toggle case without built-in functions\n",
        "s = input(\"Enter a string: \")\n",
        "\n",
        "lower_case = \"\"\n",
        "for char in s:\n",
        "    if 'A' <= char <= 'Z':\n",
        "        lower_case += chr(ord(char) + 32)\n",
        "    else:\n",
        "        lower_case += char\n",
        "print(\"Lower Case:\", lower_case)\n",
        "\n",
        "upper_case = \"\"\n",
        "for char in s:\n",
        "    if 'a' <= char <= 'z':\n",
        "        upper_case += chr(ord(char) - 32)\n",
        "    else:\n",
        "        upper_case += char\n",
        "print(\"Upper Case:\", upper_case)\n",
        "\n",
        "toggle_case = \"\"\n",
        "for char in s:\n",
        "    if 'A' <= char <= 'Z':\n",
        "        toggle_case += chr(ord(char) + 32)\n",
        "    elif 'a' <= char <= 'z':\n",
        "        toggle_case += chr(ord(char) - 32)\n",
        "    else:\n",
        "        toggle_case += char\n",
        "print(\"Toggle Case:\", toggle_case)\n"
      ],
      "metadata": {
        "id": "cbxIho4UfmTx"
      },
      "execution_count": null,
      "outputs": []
    },
    {
      "cell_type": "code",
      "source": [
        "# Check whether one string is present in another string (without using 'in' keyword)\n",
        "s1 = input(\"Enter the main string: \")\n",
        "s2 = input(\"Enter the string to check: \")\n",
        "found = False\n",
        "\n",
        "for i in range(len(s1) - len(s2) + 1):\n",
        "    if s1[i:i + len(s2)] == s2:\n",
        "        found = True\n",
        "        break\n",
        "\n",
        "print(\"Present\" if found else \"Not Present\")\n"
      ],
      "metadata": {
        "id": "dwLRtB1bfn5G"
      },
      "execution_count": null,
      "outputs": []
    },
    {
      "cell_type": "code",
      "source": [
        "# Remove one string from another string if present\n",
        "s = input(\"Enter the main string: \")\n",
        "remove = input(\"Enter the string to remove: \")\n",
        "result = \"\"\n",
        "i = 0\n",
        "\n",
        "while i < len(s):\n",
        "    if s[i:i + len(remove)] == remove:\n",
        "        i += len(remove)\n",
        "    else:\n",
        "        result += s[i]\n",
        "        i += 1\n",
        "\n",
        "print(\"Final String:\", result)\n"
      ],
      "metadata": {
        "id": "Gi-K2ZZZfqph"
      },
      "execution_count": null,
      "outputs": []
    }
  ]
}