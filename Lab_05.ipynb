{
  "nbformat": 4,
  "nbformat_minor": 0,
  "metadata": {
    "colab": {
      "provenance": [],
      "authorship_tag": "ABX9TyOwMh3JBS32bmO72LKWzM78"
    },
    "kernelspec": {
      "name": "python3",
      "display_name": "Python 3"
    },
    "language_info": {
      "name": "python"
    }
  },
  "cells": [
    {
      "cell_type": "code",
      "execution_count": 1,
      "metadata": {
        "id": "dP8o5liLhmz8",
        "colab": {
          "base_uri": "https://localhost:8080/"
        },
        "outputId": "4ded5a47-ce2e-4e03-ac9f-43a99d422f8b"
      },
      "outputs": [
        {
          "output_type": "stream",
          "name": "stdout",
          "text": [
            "List of 5 odd numbers: [15, 71, 49, 69, 21]\n",
            "List of 4 even numbers: [72, 34, 68, 42]\n",
            "After replacing the 3rd odd number with even list: [15, 71, [72, 34, 68, 42], 69, 21]\n",
            "Flattened and sorted list: [15, 21, 34, 42, 68, 69, 71, 72]\n"
          ]
        }
      ],
      "source": [
        "# 1. Create a list of 5 odd integers using random numbers, a list of 4 even integers, replace the 3rd odd number with the even list, flatten, sort and print.\n",
        "import random\n",
        "odds = random.sample(range(1, 100, 2), 5)\n",
        "print(\"List of 5 odd numbers:\", odds)\n",
        "evens = random.sample(range(2, 100, 2), 4)\n",
        "print(\"List of 4 even numbers:\", evens)\n",
        "odds[2] = evens\n",
        "print(\"After replacing the 3rd odd number with even list:\", odds)\n",
        "flat_list = sorted([item for sublist in odds for item in (sublist if isinstance(sublist, list) else [sublist])])\n",
        "print(\"Flattened and sorted list:\", flat_list)"
      ]
    },
    {
      "cell_type": "code",
      "source": [
        "# 2. Generate 20 random integers, accept a number from user and print all positions of occurrences.\n",
        "nums = [random.randint(1, 50) for _ in range(20)]\n",
        "print(\"Generated list of 20 numbers:\", nums)\n",
        "target = int(input(\"Enter a number to find its positions: \"))\n",
        "positions = [i for i, num in enumerate(nums) if num == target]\n",
        "print(\"Positions of the number in the list:\", positions)"
      ],
      "metadata": {
        "colab": {
          "base_uri": "https://localhost:8080/"
        },
        "id": "x2OEFeZLeUSO",
        "outputId": "9bc0a402-8bd2-4756-f3c0-b7abfa3b21d7"
      },
      "execution_count": 2,
      "outputs": [
        {
          "output_type": "stream",
          "name": "stdout",
          "text": [
            "Generated list of 20 numbers: [21, 20, 3, 34, 47, 3, 11, 27, 8, 36, 24, 47, 36, 33, 18, 42, 10, 25, 22, 32]\n",
            "Enter a number to find its positions: 18\n",
            "Positions of the number in the list: [14]\n"
          ]
        }
      ]
    },
    {
      "cell_type": "code",
      "source": [
        "# 3. Generate 50 random numbers between 1 and 30, remove duplicates.\n",
        "nums = [random.randint(1, 30) for _ in range(50)]\n",
        "print(\"Generated list of 50 numbers:\", nums)\n",
        "unique_nums = list(set(nums))\n",
        "print(\"List after removing duplicates:\", unique_nums)"
      ],
      "metadata": {
        "colab": {
          "base_uri": "https://localhost:8080/"
        },
        "id": "sTxVDEdzeYag",
        "outputId": "831df954-b9af-4e5e-e43d-b0a71875c606"
      },
      "execution_count": 3,
      "outputs": [
        {
          "output_type": "stream",
          "name": "stdout",
          "text": [
            "Generated list of 50 numbers: [29, 21, 26, 11, 1, 25, 12, 21, 26, 4, 25, 18, 12, 3, 15, 18, 19, 29, 7, 7, 6, 2, 1, 14, 24, 7, 25, 28, 12, 20, 29, 15, 26, 12, 12, 22, 2, 10, 20, 22, 5, 1, 20, 30, 25, 16, 28, 30, 5, 17]\n",
            "List after removing duplicates: [1, 2, 3, 4, 5, 6, 7, 10, 11, 12, 14, 15, 16, 17, 18, 19, 20, 21, 22, 24, 25, 26, 28, 29, 30]\n"
          ]
        }
      ]
    },
    {
      "cell_type": "code",
      "source": [
        "# 4. Generate 30 random numbers, create lists for positive and negative numbers.\n",
        "nums = [random.randint(-50, 50) for _ in range(30)]\n",
        "print(\"Generated list of 30 numbers:\", nums)\n",
        "positive_nums = [num for num in nums if num > 0]\n",
        "negative_nums = [num for num in nums if num < 0]\n",
        "print(\"Positive numbers:\", positive_nums)\n",
        "print(\"Negative numbers:\", negative_nums)"
      ],
      "metadata": {
        "colab": {
          "base_uri": "https://localhost:8080/"
        },
        "id": "UC3G_bPbectN",
        "outputId": "7de807cf-35a0-4ae4-c5a5-8dac25f1f15c"
      },
      "execution_count": 4,
      "outputs": [
        {
          "output_type": "stream",
          "name": "stdout",
          "text": [
            "Generated list of 30 numbers: [44, 46, -10, 31, 23, 26, 13, -41, 4, 29, -20, -11, -23, 29, 36, 38, 49, -18, -32, 42, 10, 9, 22, 48, 36, 48, 14, 5, 19, -9]\n",
            "Positive numbers: [44, 46, 31, 23, 26, 13, 4, 29, 29, 36, 38, 49, 42, 10, 9, 22, 48, 36, 48, 14, 5, 19]\n",
            "Negative numbers: [-10, -41, -20, -11, -23, -18, -32, -9]\n"
          ]
        }
      ]
    },
    {
      "cell_type": "code",
      "source": [
        "# 5. Convert a list of 5 strings to uppercase.\n",
        "strings = ['hello', 'world', 'python', 'coding', 'fun']\n",
        "uppercase_strings = [s.upper() for s in strings]\n",
        "print(\"Strings in uppercase:\", uppercase_strings)"
      ],
      "metadata": {
        "colab": {
          "base_uri": "https://localhost:8080/"
        },
        "id": "4VBwjBoaefRR",
        "outputId": "623d3978-60f4-47cc-c693-5772acfd135b"
      },
      "execution_count": 5,
      "outputs": [
        {
          "output_type": "stream",
          "name": "stdout",
          "text": [
            "Strings in uppercase: ['HELLO', 'WORLD', 'PYTHON', 'CODING', 'FUN']\n"
          ]
        }
      ]
    },
    {
      "cell_type": "code",
      "source": [
        "# 6. Convert temperatures in Fahrenheit to Celsius.\n",
        "fahrenheit = [32, 68, 77, 104, 50]\n",
        "celsius = [(temp - 32) * 5.0/9.0 for temp in fahrenheit]\n",
        "print(\"Temperatures in Celsius:\", celsius)"
      ],
      "metadata": {
        "colab": {
          "base_uri": "https://localhost:8080/"
        },
        "id": "Gcu_a-J2egq2",
        "outputId": "3ba52cce-bd78-4628-d3e5-6820005e24ad"
      },
      "execution_count": 6,
      "outputs": [
        {
          "output_type": "stream",
          "name": "stdout",
          "text": [
            "Temperatures in Celsius: [0.0, 20.0, 25.0, 40.0, 10.0]\n"
          ]
        }
      ]
    },
    {
      "cell_type": "code",
      "source": [
        "# 7. Write a menu-driven program to implement the stack data structure.\n",
        "stack = []\n",
        "while True:\n",
        "    print(\"\\n1. Push\\n2. Pop\\n3. Display\\n4. Exit\")\n",
        "    choice = int(input(\"Enter your choice: \"))\n",
        "    if choice == 1:\n",
        "        element = int(input(\"Enter the element to push: \"))\n",
        "        stack.append(element)\n",
        "        print(\"Element pushed to stack.\")\n",
        "    elif choice == 2:\n",
        "        if stack:\n",
        "            print(\"Popped element:\", stack.pop())\n",
        "        else:\n",
        "            print(\"Stack is empty.\")\n",
        "    elif choice == 3:\n",
        "        print(\"Stack contents:\", stack)\n",
        "    elif choice == 4:\n",
        "        break\n",
        "    else:\n",
        "        print(\"Invalid choice. Please try again.\")"
      ],
      "metadata": {
        "colab": {
          "base_uri": "https://localhost:8080/"
        },
        "id": "HqM2g5p0ejUY",
        "outputId": "ed2984fc-453e-4da7-d01d-bfa7215ddb81"
      },
      "execution_count": 8,
      "outputs": [
        {
          "name": "stdout",
          "output_type": "stream",
          "text": [
            "\n",
            "1. Push\n",
            "2. Pop\n",
            "3. Display\n",
            "4. Exit\n",
            "Enter your choice: 2\n",
            "Stack is empty.\n",
            "\n",
            "1. Push\n",
            "2. Pop\n",
            "3. Display\n",
            "4. Exit\n",
            "Enter your choice: 4\n"
          ]
        }
      ]
    },
    {
      "cell_type": "code",
      "source": [
        "# 8. Write a menu-driven program to implement the queue data structure.\n",
        "queue = []\n",
        "while True:\n",
        "    print(\"\\n1. Enqueue\\n2. Dequeue\\n3. Display\\n4. Exit\")\n",
        "    choice = int(input(\"Enter your choice: \"))\n",
        "    if choice == 1:\n",
        "        element = int(input(\"Enter the element to enqueue: \"))\n",
        "        queue.append(element)\n",
        "        print(\"Element added to queue.\")\n",
        "    elif choice == 2:\n",
        "        if queue:\n",
        "            print(\"Dequeued element:\", queue.pop(0))\n",
        "        else:\n",
        "            print(\"Queue is empty.\")\n",
        "    elif choice == 3:\n",
        "        print(\"Queue contents:\", queue)\n",
        "    elif choice == 4:\n",
        "        break\n",
        "    else:\n",
        "        print(\"Invalid choice. Please try again.\")"
      ],
      "metadata": {
        "colab": {
          "base_uri": "https://localhost:8080/"
        },
        "id": "pM7vaBDVexS4",
        "outputId": "dd40fff4-18fa-4484-a926-177578b1a70d"
      },
      "execution_count": 9,
      "outputs": [
        {
          "name": "stdout",
          "output_type": "stream",
          "text": [
            "\n",
            "1. Enqueue\n",
            "2. Dequeue\n",
            "3. Display\n",
            "4. Exit\n",
            "Enter your choice: 1\n",
            "Enter the element to enqueue: 34\n",
            "Element added to queue.\n",
            "\n",
            "1. Enqueue\n",
            "2. Dequeue\n",
            "3. Display\n",
            "4. Exit\n",
            "Enter your choice: 2\n",
            "Dequeued element: 34\n",
            "\n",
            "1. Enqueue\n",
            "2. Dequeue\n",
            "3. Display\n",
            "4. Exit\n",
            "Enter your choice: 4\n"
          ]
        }
      ]
    },
    {
      "cell_type": "code",
      "source": [
        "# 9. Create a third list of numbers from first list not in second list using list comprehension.\n",
        "list1 = [1, 2, 3, 4, 5, 6]\n",
        "list2 = [4, 5, 6, 7, 8, 9]\n",
        "list3 = [num for num in list1 if num not in list2]\n",
        "print(\"Numbers in first list not in second list:\", list3)"
      ],
      "metadata": {
        "colab": {
          "base_uri": "https://localhost:8080/"
        },
        "id": "x-iDseFGe5tm",
        "outputId": "0c7ef9ac-27e8-4cde-8f45-1255085ab2d4"
      },
      "execution_count": 10,
      "outputs": [
        {
          "output_type": "stream",
          "name": "stdout",
          "text": [
            "Numbers in first list not in second list: [1, 2, 3]\n"
          ]
        }
      ]
    }
  ]
}