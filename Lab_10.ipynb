{
  "nbformat": 4,
  "nbformat_minor": 0,
  "metadata": {
    "colab": {
      "provenance": [],
      "authorship_tag": "ABX9TyNPFqnHoVQKpQ6Zr4iJJsKg"
    },
    "kernelspec": {
      "name": "python3",
      "display_name": "Python 3"
    },
    "language_info": {
      "name": "python"
    }
  },
  "cells": [
    {
      "cell_type": "code",
      "execution_count": null,
      "metadata": {
        "colab": {
          "base_uri": "https://localhost:8080/"
        },
        "id": "tmSyG7OWo34N",
        "outputId": "832add9b-59b5-4dfc-980a-56b63d6366a1"
      },
      "outputs": [
        {
          "output_type": "stream",
          "name": "stdout",
          "text": [
            "CSV file 'students.csv' created successfully.\n"
          ]
        }
      ],
      "source": [
        "# 1. Write a program to create a CSV file that we can directly open in MS-Excel.\n",
        "data = [[\"Roll No\", \"Name\", \"Subject1\", \"Subject2\", \"Subject3\"],\n",
        "        [1, \"Arjun\", 78, 89, 93],\n",
        "        [2, \"Priya\", 88, 76, 91],\n",
        "        [3, \"Neha\", 92, 81, 87]]\n",
        "\n",
        "with open(\"students.csv\", \"w\") as file:\n",
        "    for row in data:\n",
        "        for i in range(len(row)):\n",
        "            file.write(str(row[i]))\n",
        "            if i < len(row) - 1:\n",
        "                file.write(\",\")\n",
        "        file.write(\"\\n\")\n",
        "print(\"CSV file 'students.csv' created successfully.\")"
      ]
    },
    {
      "cell_type": "code",
      "source": [
        "# 2. Read the data stored in MS-Excel file and convert it into a dictionary.\n",
        "students_dict = {}\n",
        "with open(\"students.csv\", \"r\") as file:\n",
        "    rows = file.readlines()\n",
        "    for row in rows[1:]:  # Skip the header row\n",
        "        cols = row.strip().split(\",\")\n",
        "        roll_no = int(cols[0])\n",
        "        name = cols[1]\n",
        "        marks = list(map(int, cols[2:]))\n",
        "        total = sum(marks)\n",
        "        students_dict[roll_no] = {\"Name\": name, \"Marks\": marks, \"Total\": total}\n",
        "print(\"Dictionary data:\", students_dict)"
      ],
      "metadata": {
        "colab": {
          "base_uri": "https://localhost:8080/"
        },
        "id": "taK7U64Qp8Mj",
        "outputId": "21312744-5c4f-422f-d04f-3708dd48f37a"
      },
      "execution_count": null,
      "outputs": [
        {
          "output_type": "stream",
          "name": "stdout",
          "text": [
            "Dictionary data: {1: {'Name': 'Arjun', 'Marks': [78, 89, 93], 'Total': 260}, 2: {'Name': 'Priya', 'Marks': [88, 76, 91], 'Total': 255}, 3: {'Name': 'Neha', 'Marks': [92, 81, 87], 'Total': 260}}\n"
          ]
        }
      ]
    },
    {
      "cell_type": "code",
      "source": [
        "# 3. Accept contact details from the user and create a vCard that we can directly store in our mobile.\n",
        "name = input(\"Enter name: \")\n",
        "phone = input(\"Enter phone number: \")\n",
        "email = input(\"Enter email: \")\n",
        "vcard_content = f\"BEGIN:VCARD\\nVERSION:3.0\\nFN:{name}\\nTEL:{phone}\\nEMAIL:{email}\\nEND:VCARD\\n\"\n",
        "with open(f\"{name}.vcf\", \"w\") as file:\n",
        "    file.write(vcard_content)\n",
        "print(f\"vCard '{name}.vcf' created successfully.\")"
      ],
      "metadata": {
        "colab": {
          "base_uri": "https://localhost:8080/"
        },
        "id": "z23RL9R7qfEy",
        "outputId": "b8de0998-6dba-4474-b369-67b117ab0681"
      },
      "execution_count": null,
      "outputs": [
        {
          "output_type": "stream",
          "name": "stdout",
          "text": [
            "Enter name: Arjun\n",
            "Enter phone number: 9409026755\n",
            "Enter email: arjun@gmail.com\n",
            "vCard 'Arjun.vcf' created successfully.\n"
          ]
        }
      ]
    },
    {
      "cell_type": "code",
      "source": [
        "# 4. Create a specific subdirectory and copy one file from another subdirectory to this newly created subdirectory.\n",
        "import os\n",
        "\n",
        "src_file = \"source_file.txt\"\n",
        "new_subdir = \"new_subdir\"\n",
        "dest_file = new_subdir + \"/destination_file.txt\"\n",
        "\n",
        "if not os.path.exists(new_subdir):\n",
        "    os.mkdir(new_subdir)\n",
        "with open(src_file, \"r\") as src, open(dest_file, \"w\") as dest:\n",
        "    dest.write(src.read())\n",
        "print(f\"File copied to '{new_subdir}' successfully.\")"
      ],
      "metadata": {
        "id": "Vulq5U0RrWPC"
      },
      "execution_count": null,
      "outputs": []
    },
    {
      "cell_type": "code",
      "source": [
        "# 5. Write a program to copy contents of one file to another, replacing lowercase characters with uppercase characters.\n",
        "src_file = \"source.txt\"\n",
        "dest_file = \"destination.txt\"\n",
        "with open(src_file, \"r\") as src, open(dest_file, \"w\") as dest:\n",
        "    content = src.read()\n",
        "    dest.write(content.upper())\n",
        "print(\"Contents copied and converted to uppercase successfully.\")"
      ],
      "metadata": {
        "id": "4sxofizvrYLA"
      },
      "execution_count": null,
      "outputs": []
    },
    {
      "cell_type": "code",
      "source": [
        "# 6. Merge lines alternatively from two files and write results to a new file.\n",
        "file1 = \"file1.txt\"\n",
        "file2 = \"file2.txt\"\n",
        "merged_file = \"merged.txt\"\n",
        "with open(file1, \"r\") as f1, open(file2, \"r\") as f2, open(merged_file, \"w\") as mf:\n",
        "    lines1 = f1.readlines()\n",
        "    lines2 = f2.readlines()\n",
        "    for i in range(max(len(lines1), len(lines2))):\n",
        "        if i < len(lines1):\n",
        "            mf.write(lines1[i])\n",
        "        if i < len(lines2):\n",
        "            mf.write(lines2[i])\n",
        "print(\"Lines merged alternatively into 'merged.txt'.\")"
      ],
      "metadata": {
        "id": "78dhEse3rbYs"
      },
      "execution_count": null,
      "outputs": []
    },
    {
      "cell_type": "code",
      "source": [
        "# 7. Serialize and deserialize Employee object data.\n",
        "class Employee:\n",
        "    def __init__(self, empcode, empname, doj, salary):\n",
        "        self.empcode = empcode\n",
        "        self.empname = empname\n",
        "        self.doj = doj\n",
        "        self.salary = salary\n",
        "\n",
        "employee = Employee(101, \"Amit\", \"2025-04-01\", 50000)\n",
        "serialized = f\"{employee.empcode},{employee.empname},{employee.doj},{employee.salary}\\n\"\n",
        "with open(\"employee.txt\", \"w\") as file:\n",
        "    file.write(serialized)\n",
        "print(\"Employee data serialized.\")\n",
        "\n",
        "with open(\"employee.txt\", \"r\") as file:\n",
        "    data = file.read().strip().split(\",\")\n",
        "    deserialized_employee = Employee(int(data[0]), data[1], data[2], int(data[3]))\n",
        "print(\"Deserialized Employee Data:\", vars(deserialized_employee))"
      ],
      "metadata": {
        "id": "fN__doe0s3Zv"
      },
      "execution_count": null,
      "outputs": []
    },
    {
      "cell_type": "code",
      "source": [
        "# 8. Create another text file deleting words ‘a’, ‘the’, ‘an’ and replacing them with blank spaces.\n",
        "source_file = \"source_text.txt\"\n",
        "modified_file = \"modified_text.txt\"\n",
        "with open(source_file, \"r\") as src, open(modified_file, \"w\") as mod:\n",
        "    text = src.read()\n",
        "    for word in [' a ', ' an ', ' the ']:\n",
        "        text = text.replace(word, ' ')\n",
        "    mod.write(text)\n",
        "print(\"Words removed and text saved in 'modified_text.txt'.\")"
      ],
      "metadata": {
        "id": "FeLm7sPxtAMp"
      },
      "execution_count": null,
      "outputs": []
    }
  ]
}