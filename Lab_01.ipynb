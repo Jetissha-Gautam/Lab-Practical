{
  "nbformat": 4,
  "nbformat_minor": 0,
  "metadata": {
    "colab": {
      "provenance": [],
      "authorship_tag": "ABX9TyNuMW2uRP2Vre60pWXvuO2a"
    },
    "kernelspec": {
      "name": "python3",
      "display_name": "Python 3"
    },
    "language_info": {
      "name": "python"
    }
  },
  "cells": [
    {
      "cell_type": "code",
      "execution_count": null,
      "metadata": {
        "colab": {
          "base_uri": "https://localhost:8080/"
        },
        "id": "xjw_yJNKNnUO",
        "outputId": "ca44d130-7092-4024-891a-191b68f75153"
      },
      "outputs": [
        {
          "output_type": "stream",
          "name": "stdout",
          "text": [
            "Enter two numbers to add:\n",
            "First number: 2\n",
            "Second number: 3\n",
            "The sum of 2.0 and 3.0 is: 5.0\n"
          ]
        }
      ],
      "source": [
        "#1.\tAdd two numbers.\n",
        "print(\"Enter two numbers to add:\")\n",
        "\n",
        "num1 = float(input(\"First number: \"))\n",
        "num2 = float(input(\"Second number: \"))\n",
        "\n",
        "sum_result = num1 + num2\n",
        "\n",
        "print(\"The sum of\", num1, \"and\", num2, \"is:\", sum_result)\n"
      ]
    },
    {
      "cell_type": "code",
      "source": [
        "#2.\tSubtract two numbers.\n",
        "num1 = float(input(\"Enter the first number: \"))\n",
        "num2 = float(input(\"Enter the second number: \"))\n",
        "\n",
        "result = num1 - num2\n",
        "\n",
        "print(\"The difference is:\", result)\n"
      ],
      "metadata": {
        "colab": {
          "base_uri": "https://localhost:8080/"
        },
        "id": "-Rz2koBLPFfx",
        "outputId": "bef12503-0a14-47e6-840e-29a2094a4fce"
      },
      "execution_count": null,
      "outputs": [
        {
          "output_type": "stream",
          "name": "stdout",
          "text": [
            "Enter the first number: 3\n",
            "Enter the second number: 6\n",
            "The difference is: -3.0\n"
          ]
        }
      ]
    },
    {
      "cell_type": "code",
      "source": [
        "# Multiply two numbers\n",
        "num1 = float(input(\"Enter the first number: \"))\n",
        "num2 = float(input(\"Enter the second number: \"))\n",
        "print(\"Multiplication:\", num1 * num2)\n"
      ],
      "metadata": {
        "colab": {
          "base_uri": "https://localhost:8080/"
        },
        "id": "abZ7F4wxQHRs",
        "outputId": "dabd3ac2-2e39-404c-fd3c-c842670bbb63"
      },
      "execution_count": null,
      "outputs": [
        {
          "output_type": "stream",
          "name": "stdout",
          "text": [
            "Enter the first number: 6\n",
            "Enter the second number: 5\n",
            "Multiplication: 30.0\n"
          ]
        }
      ]
    },
    {
      "cell_type": "code",
      "source": [
        "# Divide two numbers\n",
        "num1 = float(input(\"Enter the first number: \"))\n",
        "num2 = float(input(\"Enter the second number: \"))\n",
        "print(\"Division:\", num1 / num2 if num2 != 0 else \"Cannot divide by zero\")\n"
      ],
      "metadata": {
        "colab": {
          "base_uri": "https://localhost:8080/"
        },
        "id": "jqY3q95bQHDm",
        "outputId": "1e7a1c2b-e98e-45d7-d458-dd9e6c634d24"
      },
      "execution_count": null,
      "outputs": [
        {
          "output_type": "stream",
          "name": "stdout",
          "text": [
            "Enter the first number: 8\n",
            "Enter the second number: 4\n",
            "Division: 2.0\n"
          ]
        }
      ]
    },
    {
      "cell_type": "code",
      "source": [
        "# Perform addition, subtraction, multiplication, and division\n",
        "num1 = float(input(\"Enter the first number: \"))\n",
        "num2 = float(input(\"Enter the second number: \"))\n",
        "print(\"Addition:\", num1 + num2)\n",
        "print(\"Subtraction:\", num1 - num2)\n",
        "print(\"Multiplication:\", num1 * num2)\n",
        "print(\"Division:\", num1 / num2 if num2 != 0 else \"Cannot divide by zero\")\n"
      ],
      "metadata": {
        "colab": {
          "base_uri": "https://localhost:8080/"
        },
        "id": "ar7WiqPMPope",
        "outputId": "1b9ee52a-0d10-4277-e952-cc5fab473be0"
      },
      "execution_count": null,
      "outputs": [
        {
          "output_type": "stream",
          "name": "stdout",
          "text": [
            "Enter the first number: 5\n",
            "Enter the second number: 4\n",
            "Addition: 9.0\n",
            "Subtraction: 1.0\n",
            "Multiplication: 20.0\n",
            "Division: 1.25\n"
          ]
        }
      ]
    },
    {
      "cell_type": "code",
      "source": [
        "# Convert hours into minutes\n",
        "hours = float(input(\"Enter hours: \"))\n",
        "print(\"Minutes:\", hours * 60)\n"
      ],
      "metadata": {
        "colab": {
          "base_uri": "https://localhost:8080/"
        },
        "id": "RLBro43rQPCa",
        "outputId": "e0f55d8a-5f5a-4208-b182-e2937b913588"
      },
      "execution_count": null,
      "outputs": [
        {
          "output_type": "stream",
          "name": "stdout",
          "text": [
            "Enter hours: 4\n",
            "Minutes: 240.0\n"
          ]
        }
      ]
    },
    {
      "cell_type": "code",
      "source": [
        "# Convert minutes into hours\n",
        "minutes = float(input(\"Enter minutes: \"))\n",
        "print(\"Hours:\", minutes / 60)\n"
      ],
      "metadata": {
        "colab": {
          "base_uri": "https://localhost:8080/"
        },
        "id": "CuaPQdlOQRRD",
        "outputId": "b54285fb-7a12-4ac1-a9eb-fd4a7c57a915"
      },
      "execution_count": null,
      "outputs": [
        {
          "output_type": "stream",
          "name": "stdout",
          "text": [
            "Enter minutes: 5\n",
            "Hours: 0.08333333333333333\n"
          ]
        }
      ]
    },
    {
      "cell_type": "code",
      "source": [
        "# Convert dollars into rupees (1$ = 48 Rs)\n",
        "dollars = float(input(\"Enter amount in dollars: \"))\n",
        "print(\"Rupees:\", dollars * 48)\n"
      ],
      "metadata": {
        "colab": {
          "base_uri": "https://localhost:8080/"
        },
        "id": "ir6zoBipQS7k",
        "outputId": "0999f018-2152-4ddf-b23d-c68f4e07e964"
      },
      "execution_count": null,
      "outputs": [
        {
          "output_type": "stream",
          "name": "stdout",
          "text": [
            "Enter amount in dollars: 8\n",
            "Rupees: 384.0\n"
          ]
        }
      ]
    },
    {
      "cell_type": "code",
      "source": [
        "# Convert rupees into dollars (1$ = 48 Rs)\n",
        "rupees = float(input(\"Enter amount in rupees: \"))\n",
        "print(\"Dollars:\", rupees / 48)\n"
      ],
      "metadata": {
        "colab": {
          "base_uri": "https://localhost:8080/"
        },
        "id": "ju6qFEJPQUd7",
        "outputId": "0458958c-5aaf-4bb1-dbdf-51b26eefe4bb"
      },
      "execution_count": null,
      "outputs": [
        {
          "output_type": "stream",
          "name": "stdout",
          "text": [
            "Enter amount in rupees: 4\n",
            "Dollars: 0.08333333333333333\n"
          ]
        }
      ]
    },
    {
      "cell_type": "code",
      "source": [
        "# Convert dollars into pounds (1$ = 48 Rs, 1 pound = 70 Rs)\n",
        "dollars = float(input(\"Enter amount in dollars: \"))\n",
        "print(\"Pounds:\", (dollars * 48) / 70)\n"
      ],
      "metadata": {
        "colab": {
          "base_uri": "https://localhost:8080/"
        },
        "id": "GHxPFR8iQXbi",
        "outputId": "5fe89b7b-cd0c-4a24-ae7e-f8338db0e75b"
      },
      "execution_count": null,
      "outputs": [
        {
          "output_type": "stream",
          "name": "stdout",
          "text": [
            "Enter amount in dollars: 7\n",
            "Pounds: 4.8\n"
          ]
        }
      ]
    },
    {
      "cell_type": "code",
      "source": [
        "# Convert grams into kilograms\n",
        "grams = float(input(\"Enter weight in grams: \"))\n",
        "print(\"Kilograms:\", grams / 1000)\n"
      ],
      "metadata": {
        "colab": {
          "base_uri": "https://localhost:8080/"
        },
        "id": "76uoa6jbQa2H",
        "outputId": "01039c1a-8249-4508-d96d-237102112252"
      },
      "execution_count": null,
      "outputs": [
        {
          "output_type": "stream",
          "name": "stdout",
          "text": [
            "Enter weight in grams: 8\n",
            "Kilograms: 0.008\n"
          ]
        }
      ]
    },
    {
      "cell_type": "code",
      "source": [
        "# Convert kilograms into grams\n",
        "kg = float(input(\"Enter weight in kilograms: \"))\n",
        "print(\"Grams:\", kg * 1000)\n"
      ],
      "metadata": {
        "colab": {
          "base_uri": "https://localhost:8080/"
        },
        "id": "Rjp2awtAQayp",
        "outputId": "8ab57f45-f262-431a-93f5-a561cc23513f"
      },
      "execution_count": null,
      "outputs": [
        {
          "output_type": "stream",
          "name": "stdout",
          "text": [
            "Enter weight in kilograms: 5\n",
            "Grams: 5000.0\n"
          ]
        }
      ]
    },
    {
      "cell_type": "code",
      "source": [
        "# Convert bytes into KB, MB, and GB\n",
        "bytes_value = float(input(\"Enter size in bytes: \"))\n",
        "print(\"KB:\", bytes_value / 1024)\n",
        "print(\"MB:\", bytes_value / (1024**2))\n",
        "print(\"GB:\", bytes_value / (1024**3))\n"
      ],
      "metadata": {
        "colab": {
          "base_uri": "https://localhost:8080/"
        },
        "id": "o3W59M7YQave",
        "outputId": "5555981e-f155-497e-835c-dca0aa567892"
      },
      "execution_count": null,
      "outputs": [
        {
          "output_type": "stream",
          "name": "stdout",
          "text": [
            "Enter size in bytes: 4\n",
            "KB: 0.00390625\n",
            "MB: 3.814697265625e-06\n",
            "GB: 3.725290298461914e-09\n"
          ]
        }
      ]
    },
    {
      "cell_type": "code",
      "source": [
        "# Convert Celsius into Fahrenheit\n",
        "celsius = float(input(\"Enter temperature in Celsius: \"))\n",
        "print(\"Fahrenheit:\", (9/5 * celsius) + 32)\n"
      ],
      "metadata": {
        "colab": {
          "base_uri": "https://localhost:8080/"
        },
        "id": "tuZ6gMaQQasm",
        "outputId": "d9827036-6256-41f4-a4f3-39060e6b7409"
      },
      "execution_count": null,
      "outputs": [
        {
          "output_type": "stream",
          "name": "stdout",
          "text": [
            "Enter temperature in Celsius: 2\n",
            "Fahrenheit: 35.6\n"
          ]
        }
      ]
    },
    {
      "cell_type": "code",
      "source": [
        "# Convert Fahrenheit into Celsius\n",
        "fahrenheit = float(input(\"Enter temperature in Fahrenheit: \"))\n",
        "print(\"Celsius:\", 5/9 * (fahrenheit - 32))\n"
      ],
      "metadata": {
        "colab": {
          "base_uri": "https://localhost:8080/"
        },
        "id": "HX4TcsxdQapu",
        "outputId": "5df30c14-bbf6-484b-f71d-552784497b85"
      },
      "execution_count": null,
      "outputs": [
        {
          "output_type": "stream",
          "name": "stdout",
          "text": [
            "Enter temperature in Fahrenheit: 1\n",
            "Celsius: -17.22222222222222\n"
          ]
        }
      ]
    },
    {
      "cell_type": "code",
      "source": [
        "# Calculate simple interest\n",
        "P = float(input(\"Enter principal amount: \"))\n",
        "R = float(input(\"Enter rate of interest: \"))\n",
        "N = float(input(\"Enter time period: \"))\n",
        "print(\"Interest:\", (P * R * N) / 100)\n"
      ],
      "metadata": {
        "colab": {
          "base_uri": "https://localhost:8080/"
        },
        "id": "ajJ-4smBQamq",
        "outputId": "57b7541c-bb4b-4c76-b3ac-d044269167c6"
      },
      "execution_count": null,
      "outputs": [
        {
          "output_type": "stream",
          "name": "stdout",
          "text": [
            "Enter principal amount: 3\n",
            "Enter rate of interest: 5\n",
            "Enter time period: 4\n",
            "Interest: 0.6\n"
          ]
        }
      ]
    },
    {
      "cell_type": "code",
      "source": [
        "# Calculate area & perimeter of a square\n",
        "L = float(input(\"Enter side length of square: \"))\n",
        "print(\"Area:\", L**2, \"Perimeter:\", 4 * L)\n"
      ],
      "metadata": {
        "colab": {
          "base_uri": "https://localhost:8080/"
        },
        "id": "LLQx92TwQaj4",
        "outputId": "429cd31d-4a3b-44b6-c08f-a70e67e248e7"
      },
      "execution_count": null,
      "outputs": [
        {
          "output_type": "stream",
          "name": "stdout",
          "text": [
            "Enter side length of square: 2\n",
            "Area: 4.0 Perimeter: 8.0\n"
          ]
        }
      ]
    },
    {
      "cell_type": "code",
      "source": [
        "# Calculate area & perimeter of a rectangle\n",
        "L = float(input(\"Enter length of rectangle: \"))\n",
        "B = float(input(\"Enter breadth of rectangle: \"))\n",
        "print(\"Area:\", L * B, \"Perimeter:\", 2 * (L + B))\n"
      ],
      "metadata": {
        "colab": {
          "base_uri": "https://localhost:8080/"
        },
        "id": "4WIQacCsQag6",
        "outputId": "c594edfb-d556-44a7-bf32-8fa4d1ea31e2"
      },
      "execution_count": null,
      "outputs": [
        {
          "output_type": "stream",
          "name": "stdout",
          "text": [
            "Enter length of rectangle: 5\n",
            "Enter breadth of rectangle: 8\n",
            "Area: 40.0 Perimeter: 26.0\n"
          ]
        }
      ]
    },
    {
      "cell_type": "code",
      "source": [
        "# Calculate area of a circle\n",
        "R = float(input(\"Enter radius of circle: \"))\n",
        "print(\"Area:\", (22/7) * R * R)\n"
      ],
      "metadata": {
        "colab": {
          "base_uri": "https://localhost:8080/"
        },
        "id": "EMkehu39Qula",
        "outputId": "724f9f0d-8459-4002-8ecc-0ddd3230d2e2"
      },
      "execution_count": null,
      "outputs": [
        {
          "output_type": "stream",
          "name": "stdout",
          "text": [
            "Enter radius of circle: 4\n",
            "Area: 50.285714285714285\n"
          ]
        }
      ]
    },
    {
      "cell_type": "code",
      "source": [
        "# Calculate net salary (Net Salary = Gross Salary + Allowance - Deduction)\n",
        "gross_salary = float(input(\"Enter gross salary: \"))\n",
        "allowance = gross_salary * 0.10\n",
        "deduction = gross_salary * 0.03\n",
        "print(\"Net Salary:\", gross_salary + allowance - deduction)\n"
      ],
      "metadata": {
        "colab": {
          "base_uri": "https://localhost:8080/"
        },
        "id": "-Fyi8XIkQad1",
        "outputId": "fe10811a-e859-43ec-9aa5-60b6a9984153"
      },
      "execution_count": null,
      "outputs": [
        {
          "output_type": "stream",
          "name": "stdout",
          "text": [
            "Enter gross salary: 1\n",
            "Net Salary: 1.07\n"
          ]
        }
      ]
    },
    {
      "cell_type": "code",
      "source": [
        "# Calculate net sales (Net Sales = Gross Sales - 10% Discount of Gross Sales)\n",
        "gross_sales = float(input(\"Enter gross sales: \"))\n",
        "discount = gross_sales * 0.10\n",
        "print(\"Net Sales:\", gross_sales - discount)\n"
      ],
      "metadata": {
        "colab": {
          "base_uri": "https://localhost:8080/"
        },
        "id": "YFUj3STyQaTc",
        "outputId": "4d71c86c-97b8-49f7-981a-83e6827b2b5c"
      },
      "execution_count": null,
      "outputs": [
        {
          "output_type": "stream",
          "name": "stdout",
          "text": [
            "Enter gross sales: 2\n",
            "Net Sales: 1.8\n"
          ]
        }
      ]
    },
    {
      "cell_type": "code",
      "source": [
        "# Calculate average of three subjects along with their total\n",
        "sub1 = float(input(\"Enter marks of subject 1: \"))\n",
        "sub2 = float(input(\"Enter marks of subject 2: \"))\n",
        "sub3 = float(input(\"Enter marks of subject 3: \"))\n",
        "total = sub1 + sub2 + sub3\n",
        "print(\"Total Marks:\", total, \"Average:\", total / 3)\n"
      ],
      "metadata": {
        "colab": {
          "base_uri": "https://localhost:8080/"
        },
        "id": "d5TeBNNCRCMZ",
        "outputId": "bc387b2c-a18b-406d-92a1-c31d246e93a8"
      },
      "execution_count": null,
      "outputs": [
        {
          "output_type": "stream",
          "name": "stdout",
          "text": [
            "Enter marks of subject 1: 5\n",
            "Enter marks of subject 2: 6\n",
            "Enter marks of subject 3: 8\n",
            "Total Marks: 19.0 Average: 6.333333333333333\n"
          ]
        }
      ]
    },
    {
      "cell_type": "code",
      "source": [
        "# Swap two values\n",
        "a = input(\"Enter first value: \")\n",
        "b = input(\"Enter second value: \")\n",
        "a, b = b, a\n",
        "print(\"After swapping: First value:\", a, \"Second value:\", b)\n"
      ],
      "metadata": {
        "colab": {
          "base_uri": "https://localhost:8080/"
        },
        "id": "eioQXKNCRFT3",
        "outputId": "5c68d3e2-7ece-41c0-c3bf-15b1b10e67d5"
      },
      "execution_count": null,
      "outputs": [
        {
          "output_type": "stream",
          "name": "stdout",
          "text": [
            "Enter first value: 9\n",
            "Enter second value: 8\n",
            "After swapping: First value: 8 Second value: 9\n"
          ]
        }
      ]
    }
  ]
}