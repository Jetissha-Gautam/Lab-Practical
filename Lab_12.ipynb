{
  "nbformat": 4,
  "nbformat_minor": 0,
  "metadata": {
    "colab": {
      "provenance": [],
      "authorship_tag": "ABX9TyOFC36rpEWeNlIIZ2AdCEqL"
    },
    "kernelspec": {
      "name": "python3",
      "display_name": "Python 3"
    },
    "language_info": {
      "name": "python"
    }
  },
  "cells": [
    {
      "cell_type": "code",
      "execution_count": 1,
      "metadata": {
        "colab": {
          "base_uri": "https://localhost:8080/"
        },
        "id": "0xsPoXlS8k42",
        "outputId": "358281cd-42af-42d7-ab6b-460136999bee"
      },
      "outputs": [
        {
          "output_type": "stream",
          "name": "stdout",
          "text": [
            "Addition:\n",
            "5 + 9i\n",
            "Subtraction:\n",
            "1 + 1i\n"
          ]
        }
      ],
      "source": [
        "# 1. Create a class representing Complex numbers with addition and subtraction.\n",
        "class ComplexNumber:\n",
        "    def __init__(self, real, imag):\n",
        "        self.real = real\n",
        "        self.imag = imag\n",
        "\n",
        "    def add(self, other):\n",
        "        return ComplexNumber(self.real + other.real, self.imag + other.imag)\n",
        "\n",
        "    def subtract(self, other):\n",
        "        return ComplexNumber(self.real - other.real, self.imag - other.imag)\n",
        "\n",
        "    def display(self):\n",
        "        print(f\"{self.real} + {self.imag}i\")\n",
        "\n",
        "c1 = ComplexNumber(3, 5)\n",
        "c2 = ComplexNumber(2, 4)\n",
        "result_add = c1.add(c2)\n",
        "result_subtract = c1.subtract(c2)\n",
        "print(\"Addition:\")\n",
        "result_add.display()\n",
        "print(\"Subtraction:\")\n",
        "result_subtract.display()"
      ]
    },
    {
      "cell_type": "code",
      "source": [
        "# 2. Implement a Matrix class for addition, multiplication, and transpose.\n",
        "class Matrix:\n",
        "    def __init__(self, data):\n",
        "        self.data = data\n",
        "\n",
        "    def add(self, other):\n",
        "        return Matrix([[self.data[i][j] + other.data[i][j] for j in range(3)] for i in range(3)])\n",
        "\n",
        "    def multiply(self, other):\n",
        "        result = [[sum(self.data[i][k] * other.data[k][j] for k in range(3)) for j in range(3)] for i in range(3)]\n",
        "        return Matrix(result)\n",
        "\n",
        "    def transpose(self):\n",
        "        return Matrix([[self.data[j][i] for j in range(3)] for i in range(3)])\n",
        "\n",
        "    def display(self):\n",
        "        for row in self.data:\n",
        "            print(\" \".join(map(str, row)))\n",
        "\n",
        "m1 = Matrix([[1, 2, 3], [4, 5, 6], [7, 8, 9]])\n",
        "m2 = Matrix([[9, 8, 7], [6, 5, 4], [3, 2, 1]])\n",
        "print(\"Addition:\")\n",
        "m1.add(m2).display()\n",
        "print(\"Multiplication:\")\n",
        "m1.multiply(m2).display()\n",
        "print(\"Transpose:\")\n",
        "m1.transpose().display()"
      ],
      "metadata": {
        "colab": {
          "base_uri": "https://localhost:8080/"
        },
        "id": "DUZtMAzCBSoK",
        "outputId": "b69d9c96-e9bb-4c66-95e9-a3d5dc9fe657"
      },
      "execution_count": 2,
      "outputs": [
        {
          "output_type": "stream",
          "name": "stdout",
          "text": [
            "Addition:\n",
            "10 10 10\n",
            "10 10 10\n",
            "10 10 10\n",
            "Multiplication:\n",
            "30 24 18\n",
            "84 69 54\n",
            "138 114 90\n",
            "Transpose:\n",
            "1 4 7\n",
            "2 5 8\n",
            "3 6 9\n"
          ]
        }
      ]
    },
    {
      "cell_type": "code",
      "source": [
        "# 3. Create a class that calculates surface area and volume of a solid.\n",
        "class Solid:\n",
        "    def __init__(self, length, width, height):\n",
        "        self.length = length\n",
        "        self.width = width\n",
        "        self.height = height\n",
        "\n",
        "    def surface_area(self):\n",
        "        return 2 * (self.length * self.width + self.width * self.height + self.height * self.length)\n",
        "\n",
        "    def volume(self):\n",
        "        return self.length * self.width * self.height\n",
        "\n",
        "    def display(self):\n",
        "        print(f\"Surface Area: {self.surface_area()}\")\n",
        "        print(f\"Volume: {self.volume()}\")\n",
        "\n",
        "solid = Solid(5, 4, 3)\n",
        "solid.display()"
      ],
      "metadata": {
        "colab": {
          "base_uri": "https://localhost:8080/"
        },
        "id": "cs2oQBqkBUdp",
        "outputId": "3d07c929-199f-43b5-e13e-e7c30bdfd842"
      },
      "execution_count": 3,
      "outputs": [
        {
          "output_type": "stream",
          "name": "stdout",
          "text": [
            "Surface Area: 94\n",
            "Volume: 60\n"
          ]
        }
      ]
    },
    {
      "cell_type": "code",
      "source": [
        "# 4. Create a class that calculates perimeter/circumference and area of a shape.\n",
        "class Shape:\n",
        "    def __init__(self, length, width=None):\n",
        "        self.length = length\n",
        "        self.width = width if width else length  # Square if width not given\n",
        "\n",
        "    def perimeter(self):\n",
        "        return 2 * (self.length + self.width) if self.width else 4 * self.length\n",
        "\n",
        "    def area(self):\n",
        "        return self.length * self.width\n",
        "\n",
        "    def display(self):\n",
        "        print(f\"Perimeter: {self.perimeter()}\")\n",
        "        print(f\"Area: {self.area()}\")\n",
        "\n",
        "rectangle = Shape(5, 3)\n",
        "rectangle.display()"
      ],
      "metadata": {
        "colab": {
          "base_uri": "https://localhost:8080/"
        },
        "id": "QUqXZCDsBWH7",
        "outputId": "b9aa1c91-e121-47a5-a12e-422800858974"
      },
      "execution_count": 4,
      "outputs": [
        {
          "output_type": "stream",
          "name": "stdout",
          "text": [
            "Perimeter: 16\n",
            "Area: 15\n"
          ]
        }
      ]
    },
    {
      "cell_type": "code",
      "source": [
        "# 5. Create and use a Time class for arithmetic operations.\n",
        "class Time:\n",
        "    def __init__(self, hours, minutes):\n",
        "        self.hours = hours\n",
        "        self.minutes = minutes\n",
        "\n",
        "    def add_time(self, other):\n",
        "        total_minutes = self.minutes + other.minutes\n",
        "        total_hours = self.hours + other.hours + (total_minutes // 60)\n",
        "        return Time(total_hours, total_minutes % 60)\n",
        "\n",
        "    def display(self):\n",
        "        print(f\"{self.hours} hours, {self.minutes} minutes\")\n",
        "\n",
        "t1 = Time(2, 45)\n",
        "t2 = Time(1, 20)\n",
        "result_time = t1.add_time(t2)\n",
        "print(\"Total time:\")\n",
        "result_time.display()"
      ],
      "metadata": {
        "colab": {
          "base_uri": "https://localhost:8080/"
        },
        "id": "rrIjKep-BX2G",
        "outputId": "c84c7c36-8823-4487-d02b-93e061032690"
      },
      "execution_count": 5,
      "outputs": [
        {
          "output_type": "stream",
          "name": "stdout",
          "text": [
            "Total time:\n",
            "4 hours, 5 minutes\n"
          ]
        }
      ]
    },
    {
      "cell_type": "code",
      "source": [
        "# 6. Create a Date class and overload == operator.\n",
        "class Date:\n",
        "    def __init__(self, day, month, year):\n",
        "        self.date = [day, month, year]\n",
        "\n",
        "    def __eq__(self, other):\n",
        "        return self.date == other.date\n",
        "\n",
        "d1 = Date(27, 4, 2025)\n",
        "d2 = Date(27, 4, 2025)\n",
        "print(\"Dates are equal:\", d1 == d2)"
      ],
      "metadata": {
        "colab": {
          "base_uri": "https://localhost:8080/"
        },
        "id": "mmUPszdgBZmP",
        "outputId": "c46f094e-ea43-4cdd-a722-f64ba99e3e3f"
      },
      "execution_count": 6,
      "outputs": [
        {
          "output_type": "stream",
          "name": "stdout",
          "text": [
            "Dates are equal: True\n"
          ]
        }
      ]
    },
    {
      "cell_type": "code",
      "source": [
        "# 7. Create a class Weather and overload `in` operator.\n",
        "class Weather:\n",
        "    def __init__(self, parameters):\n",
        "        self.parameters = parameters\n",
        "\n",
        "    def __contains__(self, item):\n",
        "        return item in self.parameters\n",
        "\n",
        "weather = Weather([\"temperature\", \"humidity\", \"pressure\", \"wind\"])\n",
        "print(\"Is humidity recorded?:\", \"humidity\" in weather)"
      ],
      "metadata": {
        "colab": {
          "base_uri": "https://localhost:8080/"
        },
        "id": "S8v8s7YtBbyu",
        "outputId": "2c28a28a-cb07-4239-f302-5cdddde3149f"
      },
      "execution_count": 7,
      "outputs": [
        {
          "output_type": "stream",
          "name": "stdout",
          "text": [
            "Is humidity recorded?: True\n"
          ]
        }
      ]
    },
    {
      "cell_type": "code",
      "source": [
        "# 8. Implement a String class with overloaded operators and case conversion methods.\n",
        "class String:\n",
        "    def __init__(self, text):\n",
        "        self.text = text\n",
        "\n",
        "    def __iadd__(self, other):\n",
        "        self.text += other.text\n",
        "        return self\n",
        "\n",
        "    def toLower(self):\n",
        "        return self.text.lower()\n",
        "\n",
        "    def toUpper(self):\n",
        "        return self.text.upper()\n",
        "\n",
        "    def display(self):\n",
        "        print(\"Concatenated:\", self.text)\n",
        "        print(\"Lower case:\", self.toLower())\n",
        "        print(\"Upper case:\", self.toUpper())\n",
        "\n",
        "s1 = String(\"Namaste \")\n",
        "s2 = String(\"Bharat\")\n",
        "s1 += s2\n",
        "s1.display()"
      ],
      "metadata": {
        "colab": {
          "base_uri": "https://localhost:8080/"
        },
        "id": "xX6UG4rKBfzd",
        "outputId": "a1903e7b-2408-4ef7-829d-a8bebe33d5b3"
      },
      "execution_count": 8,
      "outputs": [
        {
          "output_type": "stream",
          "name": "stdout",
          "text": [
            "Concatenated: Namaste Bharat\n",
            "Lower case: namaste bharat\n",
            "Upper case: NAMASTE BHARAT\n"
          ]
        }
      ]
    }
  ]
}