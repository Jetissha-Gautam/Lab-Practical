{
  "nbformat": 4,
  "nbformat_minor": 0,
  "metadata": {
    "colab": {
      "provenance": [],
      "authorship_tag": "ABX9TyMF4XEZ6ZkFEOHsQOs1dKAv"
    },
    "kernelspec": {
      "name": "python3",
      "display_name": "Python 3"
    },
    "language_info": {
      "name": "python"
    }
  },
  "cells": [
    {
      "cell_type": "code",
      "execution_count": 1,
      "metadata": {
        "colab": {
          "base_uri": "https://localhost:8080/"
        },
        "id": "yLMs7x6XkuWH",
        "outputId": "b5b84d41-3c0a-47d7-a13a-7201862e2e7d"
      },
      "outputs": [
        {
          "output_type": "stream",
          "name": "stdout",
          "text": [
            "This is function fun()\n",
            "This is function disp()\n",
            "This is function msg()\n"
          ]
        }
      ],
      "source": [
        "# 1. Define three functions fun(), disp() and msg(). Store them in a list and call them one by one in a loop.\n",
        "def fun():\n",
        "    print(\"This is function fun()\")\n",
        "\n",
        "def disp():\n",
        "    print(\"This is function disp()\")\n",
        "\n",
        "def msg():\n",
        "    print(\"This is function msg()\")\n",
        "\n",
        "functions = [fun, disp, msg]\n",
        "for func in functions:\n",
        "    func()"
      ]
    },
    {
      "cell_type": "code",
      "source": [
        "# 2. Obtain a list by adding corresponding elements of two lists using map and lambda functions.\n",
        "list1 = [1, 2, 3, 4, 5, 6]\n",
        "list2 = [6, 5, 4, 3, 2, 1]\n",
        "result = list(map(lambda x, y: x + y, list1, list2))\n",
        "print(\"Resulting list:\", result)"
      ],
      "metadata": {
        "colab": {
          "base_uri": "https://localhost:8080/"
        },
        "id": "baUjnp4Kk6cR",
        "outputId": "c362e42b-0164-44eb-ae9a-25a87773ad1b"
      },
      "execution_count": 2,
      "outputs": [
        {
          "output_type": "stream",
          "name": "stdout",
          "text": [
            "Resulting list: [7, 7, 7, 7, 7, 7]\n"
          ]
        }
      ]
    },
    {
      "cell_type": "code",
      "source": [
        "# 3. Generate 10 random numbers between -15 and 15 and create a new list with their squares.\n",
        "import random\n",
        "numbers = random.sample(range(-15, 16), 10)\n",
        "squares = [num ** 2 for num in numbers]\n",
        "print(\"Original list:\", numbers)\n",
        "print(\"List of squares:\", squares)"
      ],
      "metadata": {
        "colab": {
          "base_uri": "https://localhost:8080/"
        },
        "id": "QE5v4wQgk78k",
        "outputId": "4238ba7e-7a10-4f41-c267-1e2ea284ce49"
      },
      "execution_count": 3,
      "outputs": [
        {
          "output_type": "stream",
          "name": "stdout",
          "text": [
            "Original list: [-9, -12, 6, -5, -7, -3, 10, -8, -6, 4]\n",
            "List of squares: [81, 144, 36, 25, 49, 9, 100, 64, 36, 16]\n"
          ]
        }
      ]
    },
    {
      "cell_type": "code",
      "source": [
        "# 4. Print strings from a list that are palindromes.\n",
        "lst = ['madam', 'Python', 'malayalam', 12321]\n",
        "palindromes = [str(item) for item in lst if str(item) == str(item)[::-1]]\n",
        "print(\"Palindromes in the list:\", palindromes)"
      ],
      "metadata": {
        "colab": {
          "base_uri": "https://localhost:8080/"
        },
        "id": "xaw1NGQRk9Wz",
        "outputId": "ed5a3a9c-7808-46be-b5be-d6fa62ca8a40"
      },
      "execution_count": 4,
      "outputs": [
        {
          "output_type": "stream",
          "name": "stdout",
          "text": [
            "Palindromes in the list: ['madam', 'malayalam', '12321']\n"
          ]
        }
      ]
    },
    {
      "cell_type": "code",
      "source": [
        "# 5. Filter out names from a list whose length is more than 8 characters.\n",
        "faculty_members = ['Megha', 'Priya Singh', 'Darshan Jain', 'Harshil Polishetty', 'darsh']\n",
        "filtered_names = [name for name in faculty_members if len(name) > 8]\n",
        "print(\"Names with more than 8 characters:\", filtered_names)"
      ],
      "metadata": {
        "colab": {
          "base_uri": "https://localhost:8080/"
        },
        "id": "EkR0olaEk-1_",
        "outputId": "4977f155-37b8-4768-cddb-d6323db26c3e"
      },
      "execution_count": 7,
      "outputs": [
        {
          "output_type": "stream",
          "name": "stdout",
          "text": [
            "Names with more than 8 characters: ['Priya Singh', 'Darshan Jain', 'Harshil Polishetty']\n"
          ]
        }
      ]
    }
  ]
}