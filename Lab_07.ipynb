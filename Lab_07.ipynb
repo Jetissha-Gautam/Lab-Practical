{
  "nbformat": 4,
  "nbformat_minor": 0,
  "metadata": {
    "colab": {
      "provenance": [],
      "authorship_tag": "ABX9TyNF1kwFa3YIlyGiJfjfKFHS"
    },
    "kernelspec": {
      "name": "python3",
      "display_name": "Python 3"
    },
    "language_info": {
      "name": "python"
    }
  },
  "cells": [
    {
      "cell_type": "code",
      "execution_count": 1,
      "metadata": {
        "colab": {
          "base_uri": "https://localhost:8080/"
        },
        "id": "XBgQQBHUhr-u",
        "outputId": "9884b41b-5d26-4d31-8b66-e832e03948c9"
      },
      "outputs": [
        {
          "output_type": "stream",
          "name": "stdout",
          "text": [
            "Concatenated dictionary: {'a': 1, 'b': 2, 'c': 3, 'd': 4, 'e': 5, 'f': 6}\n"
          ]
        }
      ],
      "source": [
        "# 1. Create three dictionaries and concatenate them to create a fourth dictionary.\n",
        "dict1 = {'a': 1, 'b': 2}\n",
        "dict2 = {'c': 3, 'd': 4}\n",
        "dict3 = {'e': 5, 'f': 6}\n",
        "dict4 = {**dict1, **dict2, **dict3}\n",
        "print(\"Concatenated dictionary:\", dict4)"
      ]
    },
    {
      "cell_type": "code",
      "source": [
        "# 2. Check whether a dictionary is empty or not.\n",
        "dict_check = {}\n",
        "is_empty = not bool(dict_check)\n",
        "print(\"Dictionary is empty:\", is_empty)"
      ],
      "metadata": {
        "colab": {
          "base_uri": "https://localhost:8080/"
        },
        "id": "q7j9LSjWiA5E",
        "outputId": "33297581-8f07-449a-8663-0ca5d6f4ffc4"
      },
      "execution_count": 2,
      "outputs": [
        {
          "output_type": "stream",
          "name": "stdout",
          "text": [
            "Dictionary is empty: True\n"
          ]
        }
      ]
    },
    {
      "cell_type": "code",
      "source": [
        "# 3. Create a dictionary with department number, employee roll number, and salary. Find department-wise min and max salary.\n",
        "employees = {1: {'roll_no': 101, 'salary': 50000},\n",
        "             2: {'roll_no': 102, 'salary': 60000},\n",
        "             1: {'roll_no': 103, 'salary': 40000},\n",
        "             2: {'roll_no': 104, 'salary': 70000}}\n",
        "salaries = {}\n",
        "for dept, info in employees.items():\n",
        "    if dept not in salaries:\n",
        "        salaries[dept] = []\n",
        "    salaries[dept].append(info['salary'])\n",
        "dept_min_max = {dept: {'min': min(sal), 'max': max(sal)} for dept, sal in salaries.items()}\n",
        "print(\"Department-wise min and max salaries:\", dept_min_max)"
      ],
      "metadata": {
        "colab": {
          "base_uri": "https://localhost:8080/"
        },
        "id": "BKSJ1dyMiDI5",
        "outputId": "3fef34e6-c98f-4e41-9908-0481abe1cf52"
      },
      "execution_count": 3,
      "outputs": [
        {
          "output_type": "stream",
          "name": "stdout",
          "text": [
            "Department-wise min and max salaries: {1: {'min': 40000, 'max': 40000}, 2: {'min': 70000, 'max': 70000}}\n"
          ]
        }
      ]
    },
    {
      "cell_type": "code",
      "source": [
        "# 4. Read a string from the keyboard and create dictionary containing frequency of each character occurring in the string.\n",
        "user_string = input(\"Enter a string: \")\n",
        "char_freq = {char: user_string.count(char) for char in user_string}\n",
        "print(\"Character frequency dictionary:\", char_freq)"
      ],
      "metadata": {
        "colab": {
          "base_uri": "https://localhost:8080/"
        },
        "id": "enTYSDOsiGAh",
        "outputId": "9f56adf5-b871-42cb-fd77-a3f37ccf0900"
      },
      "execution_count": 4,
      "outputs": [
        {
          "output_type": "stream",
          "name": "stdout",
          "text": [
            "Enter a string: Jetissha\n",
            "Character frequency dictionary: {'J': 1, 'e': 1, 't': 1, 'i': 1, 's': 2, 'h': 1, 'a': 1}\n"
          ]
        }
      ]
    },
    {
      "cell_type": "code",
      "source": [
        "# 5. Create two dictionaries – one containing grocery items and their prices and another containing grocery items and quantity purchased. Compute the total bill.\n",
        "prices = {'Milk': 50, 'Eggs': 5, 'Bread': 20}\n",
        "quantity = {'Milk': 2, 'Eggs': 12, 'Bread': 1}\n",
        "total_bill = sum(prices[item] * quantity[item] for item in prices if item in quantity)\n",
        "print(\"Total bill:\", total_bill)"
      ],
      "metadata": {
        "colab": {
          "base_uri": "https://localhost:8080/"
        },
        "id": "7D_3LQphiHvz",
        "outputId": "394634b3-f9a4-4f35-c6bc-43f98943742e"
      },
      "execution_count": 5,
      "outputs": [
        {
          "output_type": "stream",
          "name": "stdout",
          "text": [
            "Total bill: 180\n"
          ]
        }
      ]
    }
  ]
}