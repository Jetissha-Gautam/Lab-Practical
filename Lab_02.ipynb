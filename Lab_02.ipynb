{
  "nbformat": 4,
  "nbformat_minor": 0,
  "metadata": {
    "colab": {
      "provenance": [],
      "authorship_tag": "ABX9TyMU3cpuhsvNJMUt1xDZ67mT",
      "include_colab_link": true
    },
    "kernelspec": {
      "name": "python3",
      "display_name": "Python 3"
    },
    "language_info": {
      "name": "python"
    }
  },
  "cells": [
    {
      "cell_type": "markdown",
      "metadata": {
        "id": "view-in-github",
        "colab_type": "text"
      },
      "source": [
        "<a href=\"https://colab.research.google.com/github/Jetissha-Gautam/Lab-Practical/blob/main/Lab_02.ipynb\" target=\"_parent\"><img src=\"https://colab.research.google.com/assets/colab-badge.svg\" alt=\"Open In Colab\"/></a>"
      ]
    },
    {
      "cell_type": "code",
      "source": [
        "# Print largest and smallest values out of two numbers\n",
        "def largest_smallest(a, b):\n",
        "    print(\"Largest:\", max(a, b), \"Smallest:\", min(a, b))\n",
        "\n",
        "a = float(input(\"Enter first number: \"))\n",
        "b = float(input(\"Enter second number: \"))\n",
        "largest_smallest(a, b)\n"
      ],
      "metadata": {
        "id": "1OZ9F-QxTin6"
      },
      "execution_count": null,
      "outputs": []
    },
    {
      "cell_type": "code",
      "source": [
        "# Print largest and smallest values out of three numbers\n",
        "def largest_smallest_three(a, b, c):\n",
        "    print(\"Largest:\", max(a, b, c), \"Smallest:\", min(a, b, c))\n",
        "\n",
        "a = float(input(\"Enter first number: \"))\n",
        "b = float(input(\"Enter second number: \"))\n",
        "c = float(input(\"Enter third number: \"))\n",
        "largest_smallest_three(a, b, c)\n"
      ],
      "metadata": {
        "id": "gKl16P5eTzdr"
      },
      "execution_count": null,
      "outputs": []
    },
    {
      "cell_type": "code",
      "source": [
        "# Check whether a given number is odd or even\n",
        "def check_even_odd(n):\n",
        "    print(\"Even\" if n % 2 == 0 else \"Odd\")\n",
        "\n",
        "n = int(input(\"Enter a number: \"))\n",
        "check_even_odd(n)\n"
      ],
      "metadata": {
        "id": "OfIlRwnLT126"
      },
      "execution_count": null,
      "outputs": []
    },
    {
      "cell_type": "code",
      "source": [
        "# Check whether a given number is divisible by 10\n",
        "def divisible_by_10(n):\n",
        "    print(\"Divisible by 10\" if n % 10 == 0 else \"Not divisible by 10\")\n",
        "\n",
        "n = int(input(\"Enter a number: \"))\n",
        "divisible_by_10(n)\n"
      ],
      "metadata": {
        "id": "zCmlVWwKT3dQ"
      },
      "execution_count": null,
      "outputs": []
    },
    {
      "cell_type": "code",
      "source": [
        "# Accept age and determine minor or major\n",
        "def check_age(age):\n",
        "    print(\"Minor\" if age < 18 else \"Major\")\n",
        "\n",
        "age = int(input(\"Enter age: \"))\n",
        "check_age(age)\n"
      ],
      "metadata": {
        "id": "b2aAXkJpT7M7"
      },
      "execution_count": null,
      "outputs": []
    },
    {
      "cell_type": "code",
      "source": [
        "# Accept a number and print the number of digits\n",
        "def count_digits(n):\n",
        "    print(\"Number of digits:\", len(str(abs(n))))\n",
        "\n",
        "n = int(input(\"Enter a number: \"))\n",
        "count_digits(n)\n"
      ],
      "metadata": {
        "id": "7v0yNc35T9SV"
      },
      "execution_count": null,
      "outputs": []
    },
    {
      "cell_type": "code",
      "source": [
        "# Check whether a given year is a leap year\n",
        "def is_leap_year(year):\n",
        "    if (year % 4 == 0 and year % 100 != 0) or (year % 400 == 0):\n",
        "        print(\"Leap Year\")\n",
        "    else:\n",
        "        print(\"Not a Leap Year\")\n",
        "\n",
        "year = int(input(\"Enter a year: \"))\n",
        "is_leap_year(year)\n"
      ],
      "metadata": {
        "id": "NxZDp5N2UB4v"
      },
      "execution_count": null,
      "outputs": []
    },
    {
      "cell_type": "code",
      "source": [
        "# Check if a triangle is valid based on angles\n",
        "def is_valid_triangle(a, b, c):\n",
        "    print(\"Valid Triangle\" if a + b + c == 180 else \"Invalid Triangle\")\n",
        "\n",
        "a = int(input(\"Enter first angle: \"))\n",
        "b = int(input(\"Enter second angle: \"))\n",
        "c = int(input(\"Enter third angle: \"))\n",
        "is_valid_triangle(a, b, c)\n"
      ],
      "metadata": {
        "id": "wgruRYQ2UCt8"
      },
      "execution_count": null,
      "outputs": []
    },
    {
      "cell_type": "code",
      "source": [
        "# Print absolute value of a given number\n",
        "def absolute_value(n):\n",
        "    print(\"Absolute Value:\", abs(n))\n",
        "\n",
        "n = float(input(\"Enter a number: \"))\n",
        "absolute_value(n)\n"
      ],
      "metadata": {
        "id": "0K3wgKm0UFlm"
      },
      "execution_count": null,
      "outputs": []
    },
    {
      "cell_type": "code",
      "source": [
        "# Compare area and perimeter of a rectangle\n",
        "def compare_area_perimeter(l, b):\n",
        "    area = l * b\n",
        "    perimeter = 2 * (l + b)\n",
        "    print(\"Area is greater than Perimeter\" if area > perimeter else \"Perimeter is greater or equal to Area\")\n",
        "\n",
        "l = float(input(\"Enter length: \"))\n",
        "b = float(input(\"Enter breadth: \"))\n",
        "compare_area_perimeter(l, b)\n"
      ],
      "metadata": {
        "id": "Xtm6Eml5UHz1"
      },
      "execution_count": null,
      "outputs": []
    },
    {
      "cell_type": "code",
      "source": [
        "# Check if three points are collinear\n",
        "def are_collinear(x1, y1, x2, y2, x3, y3):\n",
        "    if (y2 - y1) * (x3 - x2) == (y3 - y2) * (x2 - x1):\n",
        "        print(\"Points are collinear\")\n",
        "    else:\n",
        "        print(\"Points are not collinear\")\n",
        "\n",
        "x1, y1 = map(int, input(\"Enter x1, y1: \").split())\n",
        "x2, y2 = map(int, input(\"Enter x2, y2: \").split())\n",
        "x3, y3 = map(int, input(\"Enter x3, y3: \").split())\n",
        "are_collinear(x1, y1, x2, y2, x3, y3)\n"
      ],
      "metadata": {
        "id": "2wVJcnrbUN8y"
      },
      "execution_count": null,
      "outputs": []
    },
    {
      "cell_type": "code",
      "source": [
        "# Check if a point lies inside, on, or outside a circle\n",
        "from math import sqrt\n",
        "\n",
        "def point_position(xc, yc, r, x, y):\n",
        "    distance = sqrt((x - xc)**2 + (y - yc)**2)\n",
        "    if distance < r:\n",
        "        print(\"Inside the circle\")\n",
        "    elif distance == r:\n",
        "        print(\"On the circle\")\n",
        "    else:\n",
        "        print(\"Outside the circle\")\n",
        "\n",
        "xc, yc = map(int, input(\"Enter center coordinates xc, yc: \").split())\n",
        "r = float(input(\"Enter radius: \"))\n",
        "x, y = map(int, input(\"Enter point coordinates x, y: \").split())\n",
        "point_position(xc, yc, r, x, y)\n"
      ],
      "metadata": {
        "id": "ApjiHWRrUT_f"
      },
      "execution_count": null,
      "outputs": []
    },
    {
      "cell_type": "code",
      "source": [
        "# Convert number 0 to 19 into words\n",
        "def number_to_words(n):\n",
        "    words = [\"zero\", \"one\", \"two\", \"three\", \"four\", \"five\", \"six\", \"seven\", \"eight\", \"nine\", \"ten\",\n",
        "             \"eleven\", \"twelve\", \"thirteen\", \"fourteen\", \"fifteen\", \"sixteen\", \"seventeen\", \"eighteen\", \"nineteen\"]\n",
        "    print(words[n] if 0 <= n <= 19 else \"Out of range\")\n",
        "\n",
        "n = int(input(\"Enter a number (0-19): \"))\n",
        "number_to_words(n)\n"
      ],
      "metadata": {
        "id": "ZvnGgOxLUXb7"
      },
      "execution_count": null,
      "outputs": []
    },
    {
      "cell_type": "code",
      "source": [
        "# Accept marks and determine total, average, pass/fail, and grade\n",
        "def student_result(m1, m2, m3):\n",
        "    total = m1 + m2 + m3\n",
        "    avg = total / 3\n",
        "    print(\"Total:\", total, \"Average:\", avg)\n",
        "\n",
        "    if m1 <= 39 or m2 <= 39 or m3 <= 39:\n",
        "        print(\"Result: Fail\")\n",
        "    else:\n",
        "        print(\"Result: Pass\")\n",
        "\n",
        "    def grade(m):\n",
        "        if m == -1:\n",
        "            return \"NA\"\n",
        "        elif 0 <= m <= 39:\n",
        "            return \"F\"\n",
        "        elif 40 <= m <= 44:\n",
        "            return \"P\"\n",
        "        elif 45 <= m <= 49:\n",
        "            return \"C\"\n",
        "        elif 50 <= m <= 54:\n",
        "            return \"B\"\n",
        "        elif 55 <= m <= 59:\n",
        "            return \"B+\"\n",
        "        elif 60 <= m <= 69:\n",
        "            return \"A\"\n",
        "        elif 70 <= m <= 79:\n",
        "            return \"A+\"\n",
        "        elif 80 <= m <= 100:\n",
        "            return \"O\"\n",
        "        else:\n",
        "            return \"Invalid Marks\"\n",
        "\n",
        "    print(\"Grade in Subject 1:\", grade(m1))\n",
        "    print(\"Grade in Subject 2:\", grade(m2))\n",
        "    print(\"Grade in Subject 3:\", grade(m3))\n",
        "\n",
        "m1 = int(input(\"Enter marks of subject 1 (-1 for absent): \"))\n",
        "m2 = int(input(\"Enter marks of subject 2 (-1 for absent): \"))\n",
        "m3 = int(input(\"Enter marks of subject 3 (-1 for absent): \"))\n",
        "student_result(m1, m2, m3)\n"
      ],
      "metadata": {
        "id": "L6xk8Jk4UeZK"
      },
      "execution_count": null,
      "outputs": []
    }
  ]
}