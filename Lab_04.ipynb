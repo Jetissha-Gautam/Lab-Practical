{
  "nbformat": 4,
  "nbformat_minor": 0,
  "metadata": {
    "colab": {
      "provenance": [],
      "authorship_tag": "ABX9TyNOgqbc8+2t4HkjTi3vCuce",
      "include_colab_link": true
    },
    "kernelspec": {
      "name": "python3",
      "display_name": "Python 3"
    },
    "language_info": {
      "name": "python"
    }
  },
  "cells": [
    {
      "cell_type": "markdown",
      "metadata": {
        "id": "view-in-github",
        "colab_type": "text"
      },
      "source": [
        "<a href=\"https://colab.research.google.com/github/Jetissha-Gautam/Lab-Practical/blob/main/Lab_04.ipynb\" target=\"_parent\"><img src=\"https://colab.research.google.com/assets/colab-badge.svg\" alt=\"Open In Colab\"/></a>"
      ]
    },
    {
      "cell_type": "code",
      "execution_count": null,
      "metadata": {
        "id": "MYCWLTJ6hAKD"
      },
      "outputs": [],
      "source": [
        "# Print all alphabets in upper case and lower case\n",
        "for i in range(65, 91):\n",
        "    print(chr(i), end=\" \")\n",
        "print()\n",
        "\n",
        "for i in range(97, 123):\n",
        "    print(chr(i), end=\" \")\n",
        "print()\n"
      ]
    },
    {
      "cell_type": "code",
      "source": [
        "# Print a multiplication table of a given number\n",
        "n = int(input(\"Enter a number: \"))\n",
        "for i in range(1, 11):\n",
        "    print(n, \"x\", i, \"=\", n * i)\n"
      ],
      "metadata": {
        "id": "Lp6V2o9OhE3N"
      },
      "execution_count": null,
      "outputs": []
    },
    {
      "cell_type": "code",
      "source": [
        "# Count number of alphabets and digits in a string\n",
        "s = input(\"Enter a string: \")\n",
        "alpha_count = 0\n",
        "digit_count = 0\n",
        "\n",
        "for char in s:\n",
        "    if 'A' <= char <= 'Z' or 'a' <= char <= 'z':\n",
        "        alpha_count += 1\n",
        "    elif '0' <= char <= '9':\n",
        "        digit_count += 1\n",
        "\n",
        "print(\"Alphabets:\", alpha_count)\n",
        "print(\"Digits:\", digit_count)\n"
      ],
      "metadata": {
        "id": "DQ9jidoMhHl7"
      },
      "execution_count": null,
      "outputs": []
    },
    {
      "cell_type": "code",
      "source": [
        "# Check whether a number is prime, perfect, Armstrong, palindrome, or automorphic\n",
        "n = int(input(\"Enter a number: \"))\n",
        "\n",
        "# Check Prime\n",
        "is_prime = n > 1\n",
        "for i in range(2, int(n**0.5) + 1):\n",
        "    if n % i == 0:\n",
        "        is_prime = False\n",
        "        break\n",
        "print(\"Prime:\", is_prime)\n",
        "\n",
        "# Check Perfect\n",
        "sum_divisors = 0\n",
        "for i in range(1, n):\n",
        "    if n % i == 0:\n",
        "        sum_divisors += i\n",
        "print(\"Perfect Number:\", sum_divisors == n)\n",
        "\n",
        "# Check Armstrong\n",
        "num = n\n",
        "armstrong_sum = 0\n",
        "digits = len(str(n))\n",
        "while num > 0:\n",
        "    armstrong_sum += (num % 10) ** digits\n",
        "    num //= 10\n",
        "print(\"Armstrong Number:\", armstrong_sum == n)\n",
        "\n",
        "# Check Palindrome\n",
        "print(\"Palindrome:\", str(n) == str(n)[::-1])\n",
        "\n",
        "# Check Automorphic\n",
        "square = n * n\n",
        "print(\"Automorphic:\", str(square).endswith(str(n)))\n"
      ],
      "metadata": {
        "id": "xSCZX22ahJLy"
      },
      "execution_count": null,
      "outputs": []
    },
    {
      "cell_type": "code",
      "source": [
        "# Generate all Pythagorean Triplets with side length ≤ 30\n",
        "for a in range(1, 31):\n",
        "    for b in range(a, 31):\n",
        "        for c in range(b, 31):\n",
        "            if a * a + b * b == c * c:\n",
        "                print(a, b, c)\n"
      ],
      "metadata": {
        "id": "By__6StVhNKr"
      },
      "execution_count": null,
      "outputs": []
    },
    {
      "cell_type": "code",
      "source": [
        "# Print 24 hours of the day with suffixes AM, PM, Noon, Midnight\n",
        "for h in range(24):\n",
        "    if h == 0:\n",
        "        print(\"12 Midnight\")\n",
        "    elif h < 12:\n",
        "        print(h, \"AM\")\n",
        "    elif h == 12:\n",
        "        print(\"12 Noon\")\n",
        "    else:\n",
        "        print(h - 12, \"PM\")\n"
      ],
      "metadata": {
        "id": "bX59Zia_hR7S"
      },
      "execution_count": null,
      "outputs": []
    },
    {
      "cell_type": "code",
      "source": [
        "# Print nCr and nPr\n",
        "n = int(input(\"Enter n: \"))\n",
        "r = int(input(\"Enter r: \"))\n",
        "\n",
        "fact_n = 1\n",
        "for i in range(1, n + 1):\n",
        "    fact_n *= i\n",
        "\n",
        "fact_r = 1\n",
        "for i in range(1, r + 1):\n",
        "    fact_r *= i\n",
        "\n",
        "fact_n_r = 1\n",
        "for i in range(1, n - r + 1):\n",
        "    fact_n_r *= i\n",
        "\n",
        "nCr = fact_n // (fact_r * fact_n_r)\n",
        "nPr = fact_n // fact_n_r\n",
        "\n",
        "print(\"nCr:\", nCr)\n",
        "print(\"nPr:\", nPr)\n"
      ],
      "metadata": {
        "id": "gpFQQ_xphU6R"
      },
      "execution_count": null,
      "outputs": []
    },
    {
      "cell_type": "code",
      "source": [
        "# Print factorial of a given number\n",
        "n = int(input(\"Enter a number: \"))\n",
        "fact = 1\n",
        "\n",
        "for i in range(1, n + 1):\n",
        "    fact *= i\n",
        "\n",
        "print(\"Factorial:\", fact)\n"
      ],
      "metadata": {
        "id": "YVJ6WrFyhVlO"
      },
      "execution_count": null,
      "outputs": []
    },
    {
      "cell_type": "code",
      "source": [
        "# Print N natural numbers in reverse\n",
        "n = int(input(\"Enter N: \"))\n",
        "for i in range(n, 0, -1):\n",
        "    print(i, end=\" \")\n",
        "print()\n"
      ],
      "metadata": {
        "id": "WJUbbgp3hZIz"
      },
      "execution_count": null,
      "outputs": []
    },
    {
      "cell_type": "code",
      "source": [
        "# Generate N numbers of Fibonacci series\n",
        "n = int(input(\"Enter N: \"))\n",
        "\n",
        "a, b = 0, 1\n",
        "for _ in range(n):\n",
        "    print(a, end=\" \")\n",
        "    a, b = b, a + b\n",
        "print()\n"
      ],
      "metadata": {
        "id": "LJoq6PzdhaSU"
      },
      "execution_count": null,
      "outputs": []
    }
  ]
}