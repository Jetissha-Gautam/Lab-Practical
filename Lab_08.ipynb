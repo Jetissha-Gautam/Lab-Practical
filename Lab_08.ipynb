{
  "nbformat": 4,
  "nbformat_minor": 0,
  "metadata": {
    "colab": {
      "provenance": [],
      "authorship_tag": "ABX9TyNyG477VwMv66BRjrqqfS4i"
    },
    "kernelspec": {
      "name": "python3",
      "display_name": "Python 3"
    },
    "language_info": {
      "name": "python"
    }
  },
  "cells": [
    {
      "cell_type": "code",
      "execution_count": null,
      "metadata": {
        "colab": {
          "base_uri": "https://localhost:8080/"
        },
        "id": "VObejKBHhv0D",
        "outputId": "055a151a-6093-44a0-afc2-c72c19682a61"
      },
      "outputs": [
        {
          "output_type": "stream",
          "name": "stdout",
          "text": [
            "Set of words in uppercase: {'APPLE', 'DATE', 'FIG', 'CHERRY', 'BANANA'}\n"
          ]
        }
      ],
      "source": [
        "# 1. Convert words present in a list into uppercase and store them in a set.\n",
        "words = ['apple', 'banana', 'cherry', 'date', 'fig']\n",
        "uppercase_set = {word.upper() for word in words}\n",
        "print(\"Set of words in uppercase:\", uppercase_set)"
      ]
    },
    {
      "cell_type": "code",
      "source": [
        "# 2. Create a set containing 10 random numbers in the range 15 to 45. Count numbers less than 30. Delete all numbers greater than 35.\n",
        "import random\n",
        "numbers = {random.randint(15, 45) for _ in range(10)}\n",
        "print(\"Generated set of numbers:\", numbers)\n",
        "count_less_than_30 = len([num for num in numbers if num < 30])\n",
        "print(\"Count of numbers less than 30:\", count_less_than_30)\n",
        "numbers = {num for num in numbers if num <= 35}\n",
        "print(\"Set after removing numbers greater than 35:\", numbers)"
      ],
      "metadata": {
        "colab": {
          "base_uri": "https://localhost:8080/"
        },
        "id": "_jxV3C4Lig9s",
        "outputId": "b28a9e27-15eb-4dd8-c334-5289158ecd6d"
      },
      "execution_count": null,
      "outputs": [
        {
          "output_type": "stream",
          "name": "stdout",
          "text": [
            "Generated set of numbers: {33, 37, 38, 39, 44, 45, 15, 27, 29}\n",
            "Count of numbers less than 30: 3\n",
            "Set after removing numbers greater than 35: {33, 27, 29, 15}\n"
          ]
        }
      ]
    },
    {
      "cell_type": "code",
      "source": [
        "# 3. Create an empty set, add five names, modify one name, and delete two names.\n",
        "names = set()\n",
        "names.update(['Alice', 'Bob', 'Charlie', 'David', 'Eve'])\n",
        "print(\"Set after adding five names:\", names)\n",
        "names.discard('Alice')\n",
        "names.add('Anna')\n",
        "names.discard('Bob')\n",
        "names.discard('Eve')\n",
        "print(\"Set after modifying and deleting names:\", names)"
      ],
      "metadata": {
        "colab": {
          "base_uri": "https://localhost:8080/"
        },
        "id": "dDNV5EtkiiDs",
        "outputId": "15fef144-1a5d-4737-aacc-beaedb60f355"
      },
      "execution_count": null,
      "outputs": [
        {
          "output_type": "stream",
          "name": "stdout",
          "text": [
            "Set after adding five names: {'Bob', 'Eve', 'David', 'Alice', 'Charlie'}\n",
            "Set after modifying and deleting names: {'Anna', 'David', 'Charlie'}\n"
          ]
        }
      ]
    },
    {
      "cell_type": "code",
      "source": [
        "# 4. Separate names in a set starting with A or B into two sets.\n",
        "names = {'Alice', 'Bob', 'Anna', 'Brandon', 'Amy', 'Brian'}\n",
        "set_A = {name for name in names if name.startswith('A')}\n",
        "set_B = {name for name in names if name.startswith('B')}\n",
        "print(\"Set of names starting with A:\", set_A)\n",
        "print(\"Set of names starting with B:\", set_B)"
      ],
      "metadata": {
        "colab": {
          "base_uri": "https://localhost:8080/"
        },
        "id": "6_xNVyOrijng",
        "outputId": "c5fe4527-7cbd-4c2f-f001-9defe588fb1c"
      },
      "execution_count": null,
      "outputs": [
        {
          "output_type": "stream",
          "name": "stdout",
          "text": [
            "Set of names starting with A: {'Anna', 'Alice', 'Amy'}\n",
            "Set of names starting with B: {'Brandon', 'Brian', 'Bob'}\n"
          ]
        }
      ]
    }
  ]
}