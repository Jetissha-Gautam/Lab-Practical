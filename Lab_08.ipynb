{
  "nbformat": 4,
  "nbformat_minor": 0,
  "metadata": {
    "colab": {
      "provenance": [],
      "authorship_tag": "ABX9TyPbdO2B8V5QsFTc6v7o5f+q"
    },
    "kernelspec": {
      "name": "python3",
      "display_name": "Python 3"
    },
    "language_info": {
      "name": "python"
    }
  },
  "cells": [
    {
      "cell_type": "code",
      "execution_count": 5,
      "metadata": {
        "colab": {
          "base_uri": "https://localhost:8080/"
        },
        "id": "VObejKBHhv0D",
        "outputId": "ad74b005-3404-4608-9006-cde7fae5ea22"
      },
      "outputs": [
        {
          "output_type": "stream",
          "name": "stdout",
          "text": [
            "Set of words in uppercase: {'PRIYA SINGH', 'HARSHIL POLISHETTY', 'DARSH', 'MEGHA', 'DARSHAN JAIN'}\n"
          ]
        }
      ],
      "source": [
        "# 1. Convert words present in a list into uppercase and store them in a set.\n",
        "words = ['Megha', 'Priya Singh', 'Darshan Jain', 'Harshil Polishetty', 'darsh']\n",
        "uppercase_set = {word.upper() for word in words}\n",
        "print(\"Set of words in uppercase:\", uppercase_set)"
      ]
    },
    {
      "cell_type": "code",
      "source": [
        "# 2. Create a set containing 10 random numbers in the range 15 to 45. Count numbers less than 30. Delete all numbers greater than 35.\n",
        "import random\n",
        "numbers = {random.randint(15, 45) for _ in range(10)}\n",
        "print(\"Generated set of numbers:\", numbers)\n",
        "count_less_than_30 = len([num for num in numbers if num < 30])\n",
        "print(\"Count of numbers less than 30:\", count_less_than_30)\n",
        "numbers = {num for num in numbers if num <= 35}\n",
        "print(\"Set after removing numbers greater than 35:\", numbers)"
      ],
      "metadata": {
        "colab": {
          "base_uri": "https://localhost:8080/"
        },
        "id": "_jxV3C4Lig9s",
        "outputId": "b28a9e27-15eb-4dd8-c334-5289158ecd6d"
      },
      "execution_count": null,
      "outputs": [
        {
          "output_type": "stream",
          "name": "stdout",
          "text": [
            "Generated set of numbers: {33, 37, 38, 39, 44, 45, 15, 27, 29}\n",
            "Count of numbers less than 30: 3\n",
            "Set after removing numbers greater than 35: {33, 27, 29, 15}\n"
          ]
        }
      ]
    },
    {
      "cell_type": "code",
      "source": [
        "# 3. Create an empty set, add five names, modify one name, and delete two names.\n",
        "names = set()\n",
        "names.update(['Megha', 'Priya Singh', 'Darshan Jain', 'Harshil Polishetty', 'darsh'])\n",
        "print(\"Set after adding five names:\", names)\n",
        "names.discard('Megha')\n",
        "names.add('Shreya')\n",
        "names.discard('Darshan Jain')\n",
        "names.discard('darsh')\n",
        "print(\"Set after modifying and deleting names:\", names)"
      ],
      "metadata": {
        "colab": {
          "base_uri": "https://localhost:8080/"
        },
        "id": "dDNV5EtkiiDs",
        "outputId": "5e42372f-9496-4a86-c9a7-f73cc08b8782"
      },
      "execution_count": 7,
      "outputs": [
        {
          "output_type": "stream",
          "name": "stdout",
          "text": [
            "Set after adding five names: {'Darshan Jain', 'darsh', 'Harshil Polishetty', 'Priya Singh', 'Megha'}\n",
            "Set after modifying and deleting names: {'Shreya', 'Harshil Polishetty', 'Priya Singh'}\n"
          ]
        }
      ]
    },
    {
      "cell_type": "code",
      "source": [
        "# 4. Separate names in a set starting with A or B into two sets.\n",
        "names = {'Megha', 'Priya Singh', 'Darshan Jain', 'Harshil Polishetty', 'Ansh','Brinda'}\n",
        "set_A = {name for name in names if name.startswith('A')}\n",
        "set_B = {name for name in names if name.startswith('B')}\n",
        "print(\"Set of names starting with A:\", set_A)\n",
        "print(\"Set of names starting with B:\", set_B)"
      ],
      "metadata": {
        "colab": {
          "base_uri": "https://localhost:8080/"
        },
        "id": "6_xNVyOrijng",
        "outputId": "54882fe0-c273-4a44-ca34-8fb68454505b"
      },
      "execution_count": 8,
      "outputs": [
        {
          "output_type": "stream",
          "name": "stdout",
          "text": [
            "Set of names starting with A: {'Ansh'}\n",
            "Set of names starting with B: {'Brinda'}\n"
          ]
        }
      ]
    }
  ]
}