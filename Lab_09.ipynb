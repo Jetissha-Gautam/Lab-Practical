{
  "nbformat": 4,
  "nbformat_minor": 0,
  "metadata": {
    "colab": {
      "provenance": [],
      "authorship_tag": "ABX9TyOSOzBlVNHibscxuz7Xm/+8"
    },
    "kernelspec": {
      "name": "python3",
      "display_name": "Python 3"
    },
    "language_info": {
      "name": "python"
    }
  },
  "cells": [
    {
      "cell_type": "code",
      "execution_count": null,
      "metadata": {
        "colab": {
          "base_uri": "https://localhost:8080/"
        },
        "id": "8trJW5DNi_V9",
        "outputId": "355524d7-9fa7-4246-f411-fe6c30373ebd"
      },
      "outputs": [
        {
          "output_type": "stream",
          "name": "stdout",
          "text": [
            "Enter a positive integer: 10\n",
            "Prime factors: [2, 5]\n"
          ]
        }
      ],
      "source": [
        "# 1. Write a recursive function to obtain the prime factors of a number.\n",
        "def prime_factors(n, factor=2):\n",
        "    if n <= 1:\n",
        "        return []\n",
        "    if n % factor == 0:\n",
        "        return [factor] + prime_factors(n // factor, factor)\n",
        "    return prime_factors(n, factor + 1)\n",
        "\n",
        "number = int(input(\"Enter a positive integer: \"))\n",
        "print(\"Prime factors:\", prime_factors(number))"
      ]
    },
    {
      "cell_type": "code",
      "source": [
        "# 2. Write a function to find the binary equivalent of a positive integer.\n",
        "def binary_equivalent(n):\n",
        "    if n == 0:\n",
        "        return ''\n",
        "    return binary_equivalent(n // 2) + str(n % 2)\n",
        "\n",
        "number = int(input(\"Enter a positive integer: \"))\n",
        "print(\"Binary equivalent:\", binary_equivalent(number))"
      ],
      "metadata": {
        "colab": {
          "base_uri": "https://localhost:8080/"
        },
        "id": "TJ45-zoDjM-3",
        "outputId": "3abb237c-6d52-4ce5-814c-9c8491472037"
      },
      "execution_count": null,
      "outputs": [
        {
          "output_type": "stream",
          "name": "stdout",
          "text": [
            "Enter a positive integer: 10\n",
            "Binary equivalent: 1010\n"
          ]
        }
      ]
    },
    {
      "cell_type": "code",
      "source": [
        "# 3. Write a recursive function that counts the number of vowels in a string.\n",
        "def count_vowels(s, i=0):\n",
        "    if i == len(s):\n",
        "        return 0\n",
        "    return (1 if s[i].lower() in 'aeiou' else 0) + count_vowels(s, i + 1)\n",
        "\n",
        "string = input(\"Enter a string: \")\n",
        "print(\"Number of vowels:\", count_vowels(string))"
      ],
      "metadata": {
        "colab": {
          "base_uri": "https://localhost:8080/"
        },
        "id": "8MiHGb6EjOeJ",
        "outputId": "1b2ea43e-f270-4e7a-fde1-e316a3a6e6f1"
      },
      "execution_count": null,
      "outputs": [
        {
          "output_type": "stream",
          "name": "stdout",
          "text": [
            "Enter a string: Jetissha\n",
            "Number of vowels: 3\n"
          ]
        }
      ]
    },
    {
      "cell_type": "code",
      "source": [
        "# 4. Write a recursive function that reverses a list of numbers.\n",
        "def reverse_list(lst):\n",
        "    if len(lst) == 0:\n",
        "        return []\n",
        "    return [lst[-1]] + reverse_list(lst[:-1])\n",
        "\n",
        "numbers = [1, 2, 3, 4, 5]\n",
        "print(\"Reversed list:\", reverse_list(numbers))"
      ],
      "metadata": {
        "colab": {
          "base_uri": "https://localhost:8080/"
        },
        "id": "f5_YHPc7jP33",
        "outputId": "be0d1067-0df3-4f1e-e2a0-ca96de10d336"
      },
      "execution_count": null,
      "outputs": [
        {
          "output_type": "stream",
          "name": "stdout",
          "text": [
            "Reversed list: [5, 4, 3, 2, 1]\n"
          ]
        }
      ]
    },
    {
      "cell_type": "code",
      "source": [
        "# 5. Calculate a^b using recursion.\n",
        "def power(a, b):\n",
        "    if b == 0:\n",
        "        return 1\n",
        "    return a * power(a, b - 1)\n",
        "\n",
        "a = int(input(\"Enter the base (a): \"))\n",
        "b = int(input(\"Enter the exponent (b): \"))\n",
        "print(f\"{a}^{b} =\", power(a, b))"
      ],
      "metadata": {
        "colab": {
          "base_uri": "https://localhost:8080/"
        },
        "id": "H9pcISFljSrX",
        "outputId": "893d5365-155c-42c0-f860-8253186d03d8"
      },
      "execution_count": null,
      "outputs": [
        {
          "output_type": "stream",
          "name": "stdout",
          "text": [
            "Enter the base (a): 10\n",
            "Enter the exponent (b): 4\n",
            "10^4 = 10000\n"
          ]
        }
      ]
    },
    {
      "cell_type": "code",
      "source": [
        "# 6. Write a recursive function that sanitizes a list by replacing negative numbers with 0.\n",
        "def sanitize_list(lst, i=0):\n",
        "    if i == len(lst):\n",
        "        return lst\n",
        "    if lst[i] < 0:\n",
        "        lst[i] = 0\n",
        "    return sanitize_list(lst, i + 1)\n",
        "\n",
        "numbers = [5, -3, 12, -7, 9]\n",
        "print(\"Sanitized list:\", sanitize_list(numbers))"
      ],
      "metadata": {
        "colab": {
          "base_uri": "https://localhost:8080/"
        },
        "id": "OAKapUf_jUe3",
        "outputId": "14ff782a-dc99-48a8-e5f8-7fe59de726f9"
      },
      "execution_count": null,
      "outputs": [
        {
          "output_type": "stream",
          "name": "stdout",
          "text": [
            "Sanitized list: [5, 0, 12, 0, 9]\n"
          ]
        }
      ]
    },
    {
      "cell_type": "code",
      "source": [
        "# 7. Write a recursive function to obtain the average of all numbers in a list.\n",
        "def average_of_list(lst, total=0, i=0):\n",
        "    if i == len(lst):\n",
        "        return total / len(lst) if lst else 0\n",
        "    return average_of_list(lst, total + lst[i], i + 1)\n",
        "\n",
        "numbers = [10, 20, 30, 40, 50]\n",
        "print(\"Average of list:\", average_of_list(numbers))"
      ],
      "metadata": {
        "colab": {
          "base_uri": "https://localhost:8080/"
        },
        "id": "vAzHkr6CjWC1",
        "outputId": "eb820d47-78bf-4934-bd14-ec659963bac9"
      },
      "execution_count": null,
      "outputs": [
        {
          "output_type": "stream",
          "name": "stdout",
          "text": [
            "Average of list: 30.0\n"
          ]
        }
      ]
    },
    {
      "cell_type": "code",
      "source": [
        "# 8. Write a recursive function to obtain the length of a given string.\n",
        "def length_of_string(s):\n",
        "    if s == \"\":\n",
        "        return 0\n",
        "    return 1 + length_of_string(s[1:])\n",
        "\n",
        "string = input(\"Enter a string: \")\n",
        "print(\"Length of string:\", length_of_string(string))"
      ],
      "metadata": {
        "colab": {
          "base_uri": "https://localhost:8080/"
        },
        "id": "tsNda-hujXlf",
        "outputId": "386fdbb4-d0d2-4527-a314-708c5933e444"
      },
      "execution_count": null,
      "outputs": [
        {
          "output_type": "stream",
          "name": "stdout",
          "text": [
            "Enter a string: Jetissha\n",
            "Length of string: 8\n"
          ]
        }
      ]
    }
  ]
}