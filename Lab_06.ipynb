{
  "nbformat": 4,
  "nbformat_minor": 0,
  "metadata": {
    "colab": {
      "provenance": [],
      "authorship_tag": "ABX9TyMkZsy6U8tVjRPSzhjralWY"
    },
    "kernelspec": {
      "name": "python3",
      "display_name": "Python 3"
    },
    "language_info": {
      "name": "python"
    }
  },
  "cells": [
    {
      "cell_type": "code",
      "execution_count": 2,
      "metadata": {
        "colab": {
          "base_uri": "https://localhost:8080/"
        },
        "id": "zWfCXbxJgfW_",
        "outputId": "dc6c078f-955b-4dc9-cd8c-c7774224d2cb"
      },
      "outputs": [
        {
          "output_type": "stream",
          "name": "stdout",
          "text": [
            "Number of boys: 2\n",
            "Number of girls: 3\n"
          ]
        }
      ],
      "source": [
        "# 1. A list contains names of boys and girls as its elements. Boys’ names are stored as tuples. Find out number of boys and girls in the list.\n",
        "names = ['Alice', ('John',), 'Emma', ('Chris',), 'Sophia']\n",
        "boys = sum(1 for name in names if isinstance(name, tuple))\n",
        "girls = sum(1 for name in names if not isinstance(name, tuple))\n",
        "print(\"Number of boys:\", boys)\n",
        "print(\"Number of girls:\", girls)"
      ]
    },
    {
      "cell_type": "code",
      "source": [
        "# 2. A list contains tuples with roll no., name, and age of student. Create three separate lists for roll no., name, and age.\n",
        "students = [(1, 'Alice', 20), (2, 'Bob', 19), (3, 'Charlie', 22)]\n",
        "roll_numbers = [student[0] for student in students]\n",
        "names = [student[1] for student in students]\n",
        "ages = [student[2] for student in students]\n",
        "print(\"Roll numbers:\", roll_numbers)\n",
        "print(\"Names:\", names)\n",
        "print(\"Ages:\", ages)"
      ],
      "metadata": {
        "colab": {
          "base_uri": "https://localhost:8080/"
        },
        "id": "eddsGVX7hBMZ",
        "outputId": "a329488d-9e11-49bc-ccbc-defff3f82d6e"
      },
      "execution_count": 3,
      "outputs": [
        {
          "output_type": "stream",
          "name": "stdout",
          "text": [
            "Roll numbers: [1, 2, 3]\n",
            "Names: ['Alice', 'Bob', 'Charlie']\n",
            "Ages: [20, 19, 22]\n"
          ]
        }
      ]
    },
    {
      "cell_type": "code",
      "source": [
        "# 3. Create two date tuples and find the number of days between the two dates.\n",
        "from datetime import date\n",
        "date1 = (21, 4, 2025)\n",
        "date2 = (10, 5, 2025)\n",
        "days_between = (date(date2[2], date2[1], date2[0]) - date(date1[2], date1[1], date1[0])).days\n",
        "print(\"Days between the two dates:\", days_between)"
      ],
      "metadata": {
        "colab": {
          "base_uri": "https://localhost:8080/"
        },
        "id": "ZcX_-McJhDcJ",
        "outputId": "d238cbd7-208c-4871-894a-248edd877c3e"
      },
      "execution_count": 4,
      "outputs": [
        {
          "output_type": "stream",
          "name": "stdout",
          "text": [
            "Days between the two dates: 19\n"
          ]
        }
      ]
    },
    {
      "cell_type": "code",
      "source": [
        "# 4. Create a list of tuples containing a food item and its price. Sort the tuples in descending order by price.\n",
        "foods = [('Pizza', 299), ('Burger', 149), ('Fries', 99), ('Pasta', 249)]\n",
        "sorted_foods = sorted(foods, key=lambda x: x[1], reverse=True)\n",
        "print(\"Food items sorted by price:\", sorted_foods)"
      ],
      "metadata": {
        "colab": {
          "base_uri": "https://localhost:8080/"
        },
        "id": "xjeAl52chE7A",
        "outputId": "d31fb97b-c81a-402b-8dea-7b13a6ca1748"
      },
      "execution_count": 5,
      "outputs": [
        {
          "output_type": "stream",
          "name": "stdout",
          "text": [
            "Food items sorted by price: [('Pizza', 299), ('Pasta', 249), ('Burger', 149), ('Fries', 99)]\n"
          ]
        }
      ]
    },
    {
      "cell_type": "code",
      "source": [
        "# 5. Remove empty tuple(s) from the list of tuples.\n",
        "tuples_list = [(), ('Alice', 20), (), ('Bob', 19), ('Charlie', 22)]\n",
        "non_empty_tuples = [tup for tup in tuples_list if tup]\n",
        "print(\"List after removing empty tuples:\", non_empty_tuples)"
      ],
      "metadata": {
        "colab": {
          "base_uri": "https://localhost:8080/"
        },
        "id": "ljCDJ0z3hGff",
        "outputId": "db007273-5ed4-4a4d-b2e5-b5eb3eb78531"
      },
      "execution_count": 6,
      "outputs": [
        {
          "output_type": "stream",
          "name": "stdout",
          "text": [
            "List after removing empty tuples: [('Alice', 20), ('Bob', 19), ('Charlie', 22)]\n"
          ]
        }
      ]
    },
    {
      "cell_type": "code",
      "source": [
        "# 6. Modify an element of a tuple.\n",
        "original_tuple = (1, 2, 3, 4)\n",
        "modified_tuple = original_tuple[:2] + (99,) + original_tuple[3:]\n",
        "print(\"Modified tuple:\", modified_tuple)\n"
      ],
      "metadata": {
        "colab": {
          "base_uri": "https://localhost:8080/"
        },
        "id": "nCKqmt1thI9t",
        "outputId": "a4a000c8-4a7b-4421-b2f0-aebd04a3d8c0"
      },
      "execution_count": 1,
      "outputs": [
        {
          "output_type": "stream",
          "name": "stdout",
          "text": [
            "Modified tuple: (1, 2, 99, 4)\n"
          ]
        }
      ]
    },
    {
      "cell_type": "code",
      "source": [
        "# 7. Delete an element of a tuple.\n",
        "original_tuple = (1, 2, 3, 4)\n",
        "modified_tuple = original_tuple[:1] + original_tuple[2:]\n",
        "print(\"Tuple after deleting an element:\", modified_tuple)"
      ],
      "metadata": {
        "colab": {
          "base_uri": "https://localhost:8080/"
        },
        "id": "P7GdgyGMhIG2",
        "outputId": "2a8906a2-a1b9-44c3-cede-cae6e15f63a5"
      },
      "execution_count": 7,
      "outputs": [
        {
          "output_type": "stream",
          "name": "stdout",
          "text": [
            "Tuple after deleting an element: (1, 3, 4)\n"
          ]
        }
      ]
    }
  ]
}