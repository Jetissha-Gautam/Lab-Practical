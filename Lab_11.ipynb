{
  "nbformat": 4,
  "nbformat_minor": 0,
  "metadata": {
    "colab": {
      "provenance": [],
      "authorship_tag": "ABX9TyPtWWdl1jZkPtNqLiSpY+5V"
    },
    "kernelspec": {
      "name": "python3",
      "display_name": "Python 3"
    },
    "language_info": {
      "name": "python"
    }
  },
  "cells": [
    {
      "cell_type": "code",
      "execution_count": 1,
      "metadata": {
        "colab": {
          "base_uri": "https://localhost:8080/"
        },
        "id": "uvIB9C9Fv4Qw",
        "outputId": "e2e97209-b97c-441a-a4ee-fd34ce1db89d"
      },
      "outputs": [
        {
          "output_type": "stream",
          "name": "stdout",
          "text": [
            "Enter an integer: k\n",
            "Error: That is not an integer. Please try again.\n",
            "Enter an integer: \n",
            "Error: That is not an integer. Please try again.\n",
            "Enter an integer: \n",
            "Error: That is not an integer. Please try again.\n",
            "Enter an integer: 5\n",
            "You entered a valid integer: 5\n"
          ]
        }
      ],
      "source": [
        "# Write a program that receives an integer input and handles incorrect input by asking again until a valid integer is entered.\n",
        "while True:\n",
        "    user_input = input(\"Enter an integer: \")\n",
        "    try:\n",
        "        number = int(user_input)\n",
        "        print(\"You entered a valid integer:\", number)\n",
        "        break\n",
        "    except ValueError:\n",
        "        print(\"Error: That is not an integer. Please try again.\")"
      ]
    }
  ]
}